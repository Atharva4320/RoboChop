{
  "cells": [
    {
      "cell_type": "markdown",
      "metadata": {
        "id": "lyf75JXOq8xn"
      },
      "source": [
        "# Installing Segment Anything and other requirements"
      ]
    },
    {
      "cell_type": "markdown",
      "metadata": {
        "id": "PmQz788Siqbg"
      },
      "source": [
        "## Links:\n",
        "\n",
        "\n",
        "1. GitHub: https://github.com/facebookresearch/segment-anything?fbclid=IwAR0Y2u97N1GZXS9FZL4pJRkNsrRrgvg8D9igcKqyuMhA0SftslAzw92WE-g\n",
        "2. Meta AI: https://ai.facebook.com/blog/segment-anything-foundation-model-image-segmentation/?utm_source=linkedin&utm_medium=organic_social&utm_campaign=segmentanything&utm_content=gif\n",
        "3. Segment Anything Paper: https://ai.facebook.com/research/publications/segment-anything/\n",
        "\n"
      ]
    },
    {
      "cell_type": "markdown",
      "metadata": {
        "id": "FV0Yp9qfrNdT"
      },
      "source": [
        "### Segment Anything:"
      ]
    },
    {
      "cell_type": "markdown",
      "metadata": {
        "id": "nlL8lwO_ldpc"
      },
      "source": [
        "# SAM Segmentation after YOLO Detection\n",
        "\n",
        "### ----------------------- Main Code --------------------\n",
        "\n",
        "##### *** The final centroid should be x1 + x and y1 + y (Need to test)"
      ]
    },
    {
      "cell_type": "markdown",
      "metadata": {
        "id": "7t-8OOZjApYk"
      },
      "source": [
        "### *** Run this if running on Google colab ***"
      ]
    },
    {
      "cell_type": "code",
      "execution_count": 1,
      "metadata": {
        "id": "RctZYZmMDX49"
      },
      "outputs": [],
      "source": [
        "import torch\n",
        "import warnings\n",
        "import sys\n",
        "import torch\n",
        "import torchvision\n",
        "import cv2\n",
        "import matplotlib.pyplot as plt\n",
        "import numpy as np\n",
        "import PIL\n",
        "import time\n",
        "from google.colab.patches import cv2_imshow\n",
        "from tqdm import tqdm\n",
        "import os\n",
        "import warnings"
      ]
    },
    {
      "cell_type": "code",
      "execution_count": 2,
      "metadata": {
        "colab": {
          "base_uri": "https://localhost:8080/"
        },
        "id": "6u4GJPWgCQ1t",
        "outputId": "891bcc88-e031-46a4-cae2-48b33e3c1be3"
      },
      "outputs": [
        {
          "output_type": "stream",
          "name": "stdout",
          "text": [
            "PyTorch version: 2.0.1+cu118\n",
            "Torchvision version: 0.15.2+cu118\n",
            "CUDA is available: True\n",
            "  Preparing metadata (setup.py) ... \u001b[?25l\u001b[?25hdone\n",
            "--2023-05-26 17:08:50--  https://dl.fbaipublicfiles.com/segment_anything/sam_vit_h_4b8939.pth\n",
            "Resolving dl.fbaipublicfiles.com (dl.fbaipublicfiles.com)... 18.165.83.44, 18.165.83.79, 18.165.83.35, ...\n",
            "Connecting to dl.fbaipublicfiles.com (dl.fbaipublicfiles.com)|18.165.83.44|:443... connected.\n",
            "HTTP request sent, awaiting response... 200 OK\n",
            "Length: 2564550879 (2.4G) [binary/octet-stream]\n",
            "Saving to: ‘sam_vit_h_4b8939.pth.1’\n",
            "\n",
            "sam_vit_h_4b8939.pt 100%[===================>]   2.39G   202MB/s    in 11s     \n",
            "\n",
            "2023-05-26 17:09:00 (231 MB/s) - ‘sam_vit_h_4b8939.pth.1’ saved [2564550879/2564550879]\n",
            "\n",
            "Drive already mounted at /content/drive; to attempt to forcibly remount, call drive.mount(\"/content/drive\", force_remount=True).\n"
          ]
        }
      ],
      "source": [
        "if 'google.colab' in str(get_ipython()):  # Checking if running on google colab\n",
        "    print(\"PyTorch version:\", torch.__version__)\n",
        "    print(\"Torchvision version:\", torchvision.__version__)\n",
        "    print(\"CUDA is available:\", torch.cuda.is_available())\n",
        "    import sys\n",
        "    !{sys.executable} -m pip install opencv-python matplotlib --quiet\n",
        "    !{sys.executable} -m pip install 'git+https://github.com/facebookresearch/segment-anything.git' --quiet\n",
        "    \n",
        "    !wget https://dl.fbaipublicfiles.com/segment_anything/sam_vit_h_4b8939.pth\n",
        "\n",
        "    from google.colab import drive\n",
        "    drive.mount('/content/drive')"
      ]
    },
    {
      "cell_type": "markdown",
      "metadata": {
        "id": "6srqN4CIAeID"
      },
      "source": [
        "### Installing and Instantiating SAM:"
      ]
    },
    {
      "cell_type": "code",
      "execution_count": 3,
      "metadata": {
        "colab": {
          "base_uri": "https://localhost:8080/"
        },
        "id": "TTGN9HUFAiFa",
        "outputId": "61ad67c9-b416-4225-b1eb-cfe8bf1858d4"
      },
      "outputs": [
        {
          "output_type": "stream",
          "name": "stdout",
          "text": [
            "  Preparing metadata (setup.py) ... \u001b[?25l\u001b[?25hdone\n"
          ]
        }
      ],
      "source": [
        "!pip install git+https://github.com/facebookresearch/segment-anything.git --quiet\n",
        "!pip install opencv-python pycocotools matplotlib onnxruntime onnx --quiet"
      ]
    },
    {
      "cell_type": "code",
      "execution_count": 4,
      "metadata": {
        "colab": {
          "base_uri": "https://localhost:8080/"
        },
        "id": "EV0WfgYBBRlf",
        "outputId": "fd70019f-0ee1-4264-c70a-fc1064d67c7a"
      },
      "outputs": [
        {
          "output_type": "stream",
          "name": "stdout",
          "text": [
            "CUDA is found! Executing on Tesla T4.......\n"
          ]
        }
      ],
      "source": [
        "sam_checkpoint = \"sam_vit_h_4b8939.pth\"\n",
        "\n",
        "device = torch.device(\"cuda\" if torch.cuda.is_available() else \"cpu\")\n",
        "\n",
        "if device.type == 'cuda':\n",
        "  print('CUDA is found! Executing on %s.......'%torch.cuda.get_device_name(0))\n",
        "else:\n",
        "  warnings.warn('CUDA not found! Execution may be slow......')\n",
        "\n",
        "model_type = \"default\""
      ]
    },
    {
      "cell_type": "code",
      "execution_count": 5,
      "metadata": {
        "id": "Oi1cnPK_BSn6"
      },
      "outputs": [],
      "source": [
        "sys.path.append(\"..\")\n",
        "from segment_anything import sam_model_registry, SamAutomaticMaskGenerator, SamPredictor\n",
        "\n",
        "sam = sam_model_registry[model_type](checkpoint=sam_checkpoint)\n",
        "sam.to(device=device)\n",
        "\n",
        "mask_generator = SamAutomaticMaskGenerator(sam)"
      ]
    },
    {
      "cell_type": "code",
      "execution_count": 6,
      "metadata": {
        "colab": {
          "base_uri": "https://localhost:8080/",
          "height": 909
        },
        "id": "GfcByze_2VUY",
        "outputId": "97295c9e-8dc3-4ba1-a72b-696f88fc49d0"
      },
      "outputs": [
        {
          "output_type": "display_data",
          "data": {
            "text/plain": [
              "<Figure size 2000x2000 with 1 Axes>"
            ],
            "image/png": "[encoded data removed]"
          },
          "metadata": {}
        }
      ],
      "source": [
        "# cropped_apple = cv2.imread('/content/drive/MyDrive/Fluid Segmentation Drive/crop_104.jpg')\n",
        "cropped_apple = cv2.imread('/content/drive/MyDrive/Fluid Semantic Drive/META [Segment Anything]/Dataset/crop_104.jpg')\n",
        "cropped_apple = cv2.cvtColor(cropped_apple, cv2.COLOR_BGR2RGB)\n",
        "\n",
        "plt.figure(figsize=(20,20))\n",
        "plt.imshow(cropped_apple)\n",
        "plt.axis('off')\n",
        "plt.show()"
      ]
    },
    {
      "cell_type": "markdown",
      "metadata": {
        "id": "WU9bOD6MxLPu"
      },
      "source": [
        "-- Given an image like above:\n",
        "> Generate segmentation mask for the image.\n",
        "> ---> Sort the masks based on their sizes\n",
        "> ---> Get the point-of-interest (POI) mask (the mask with maximum area)\n",
        "> ---> Display the mask (optional for final)\n",
        "> ---> Get the centroid of POI mask, return the centroid\n",
        "> ---> Convert the centroid to accomodate the entire scene (whole image) \n",
        "\n",
        "** The images sent to SAM are cropped images. The centroid returned is in the form of cropped_image reference. Convert this to enitre frame centroid by adding x1 and y1 values (Need to test it).\n",
        "\n",
        "---> x1 + centroid x; y1 + centroid y\n"
      ]
    },
    {
      "cell_type": "markdown",
      "metadata": {
        "id": "pqbfusja09gW"
      },
      "source": [
        "## TODO: (Later)\n",
        "\n",
        "- Import SAM model (maybe integrate it with another function)"
      ]
    },
    {
      "cell_type": "code",
      "execution_count": 7,
      "metadata": {
        "id": "mGc5Up9ptfDk"
      },
      "outputs": [],
      "source": [
        "# Calculates the centroid of the object\n",
        "def get_centroid(mask_segmentation):\n",
        "  binary_mask = mask_segmentation.astype(np.uint8)\n",
        "\n",
        "  y, x = np.indices(binary_mask.shape)\n",
        "  centroid_x = int(np.sum(x * binary_mask) / np.sum(binary_mask))\n",
        "  centroid_y = int(np.sum(y * binary_mask) / np.sum(binary_mask))\n",
        "\n",
        "  return centroid_x, centroid_y"
      ]
    },
    {
      "cell_type": "code",
      "execution_count": 8,
      "metadata": {
        "id": "bHWc9WnvqvoM"
      },
      "outputs": [],
      "source": [
        "def disp_mask_and_centroid(image, anns, random_color=False, disp_centroid=True):\n",
        "    # num_masks = \n",
        "    if len(anns) == 0:\n",
        "        return\n",
        "  \n",
        "     # Sort masks based on 'area' in descending order\n",
        "    sorted_masks = sorted(anns, key=lambda x: x['area'], reverse=True)\n",
        "    \n",
        "    # Select point-of-interest mask\n",
        "    poi_mask = sorted_masks[0]['segmentation']\n",
        "\n",
        "    #Compute the centroid of the mask\n",
        "    cent_x, cent_y = get_centroid(poi_mask)\n",
        "\n",
        "    # Create an empty mask of zeros with the same shape as image\n",
        "    mask_overlay = np.zeros(image.shape, dtype=np.uint8)\n",
        "      \n",
        "    # Convert the mask to uint8\n",
        "    poi_mask = (poi_mask * 255).astype(np.uint8)\n",
        "\n",
        "    # Find contours from the binary mask\n",
        "    contours, _ = cv2.findContours(poi_mask, cv2.RETR_EXTERNAL, cv2.CHAIN_APPROX_SIMPLE)\n",
        "\n",
        "    # Fill the poi_mask area with a specified color\n",
        "    color = (255, 165, 0) if not random_color else tuple(np.random.randint(0, 255, 3).tolist())  # orange or random color\n",
        "    cv2.drawContours(mask_overlay, contours, -1, color, thickness=cv2.FILLED)\n",
        "\n",
        "    # Bitwise operation to put mask on top of image\n",
        "    img = cv2.bitwise_and(image, mask_overlay)\n",
        "\n",
        "    # If you want to show centroid, draw a small circle\n",
        "    if disp_centroid:\n",
        "        cv2.circle(img, (cent_x, cent_y), 5, (0, 255, 255), -1)  # Red color for centroid\n",
        "\n",
        "        # Specify the font\n",
        "        font = cv2.FONT_HERSHEY_SIMPLEX\n",
        "\n",
        "        # Specify the color\n",
        "        color = (255, 0, 0)  # Red color\n",
        "\n",
        "        # Specify the size\n",
        "        size, thickness = 0.75, 2\n",
        "\n",
        "        coordinates_text = f\"({cent_x}, {cent_y})\"\n",
        "        cv2.putText(img, coordinates_text, (cent_x - 50, cent_y - 10), font, size, color, thickness)\n",
        "\n",
        "\n",
        "    img_ = cv2.bitwise_not(img)\n",
        "\n",
        "    # Create a mask where white (255) pixels in the overlay image are black (0) \n",
        "    mask = cv2.cvtColor(img_, cv2.COLOR_BGR2GRAY)\n",
        "    _, mask = cv2.threshold(mask, 254, 255, cv2.THRESH_BINARY_INV)\n",
        "\n",
        "    # Split the mask into 3 channels\n",
        "    mask = cv2.cvtColor(mask, cv2.COLOR_GRAY2BGR)\n",
        "\n",
        "    # Create a masked foreground and background\n",
        "    foreground = cv2.bitwise_and(img_, mask)\n",
        "    background = cv2.bitwise_and(image, cv2.bitwise_not(mask))\n",
        "\n",
        "    # Combine the foreground and the background\n",
        "    output_img = cv2.add(foreground, background)\n",
        "\n",
        "\n",
        "    return cv2.cvtColor(output_img, cv2.COLOR_BGR2RGB), cent_x, cent_y"
      ]
    },
    {
      "cell_type": "code",
      "execution_count": 9,
      "metadata": {
        "colab": {
          "base_uri": "https://localhost:8080/",
          "height": 544
        },
        "id": "dTKDfeU2klWR",
        "outputId": "00602856-57c8-4b65-ced8-b376b028d04d"
      },
      "outputs": [
        {
          "output_type": "display_data",
          "data": {
            "text/plain": [
              "<Figure size 640x480 with 1 Axes>"
            ],
            "image/png": "[encoded data removed]"
          },
          "metadata": {}
        },
        {
          "output_type": "display_data",
          "data": {
            "text/plain": [
              "<PIL.Image.Image image mode=RGB size=143x138 at 0x7F68D04F85E0>"
            ],
            "image/png": "[encoded data removed]"
          },
          "metadata": {}
        }
      ],
      "source": [
        "cropped_apple_mask = mask_generator.generate(cropped_apple)\n",
        "final_img, centroid_x, centroid_y = disp_mask_and_centroid(cropped_apple, cropped_apple_mask)\n",
        "\n",
        "plt.imshow(cv2.cvtColor(final_img, cv2.COLOR_RGB2BGR))  # OpenCV uses BGR color order, so it needs to be converted to RGB for correct display\n",
        "plt.axis('off')\n",
        "plt.show()\n",
        "#%%%%#\n",
        "cv2_imshow(final_img)"
      ]
    },
    {
      "cell_type": "code",
      "execution_count": 10,
      "metadata": {
        "colab": {
          "base_uri": "https://localhost:8080/",
          "height": 406
        },
        "id": "F2TxqBtaNIAb",
        "outputId": "29e64513-85b0-4fa6-dc20-e11df6ea14ec"
      },
      "outputs": [
        {
          "output_type": "display_data",
          "data": {
            "text/plain": [
              "<Figure size 640x480 with 1 Axes>"
            ],
            "image/png": "[encoded data removed]"
          },
          "metadata": {}
        }
      ],
      "source": [
        "plt.imshow(cropped_apple)  # OpenCV uses BGR color order, so it needs to be converted to RGB for correct display\n",
        "plt.axis('off')\n",
        "plt.show()"
      ]
    },
    {
      "cell_type": "code",
      "execution_count": 11,
      "metadata": {
        "colab": {
          "base_uri": "https://localhost:8080/"
        },
        "id": "HplgHl69kzfs",
        "outputId": "81eaedd5-5971-46cc-b0a7-da9f6f6f7584"
      },
      "outputs": [
        {
          "output_type": "stream",
          "name": "stdout",
          "text": [
            "{'segmentation': array([[False, False, False, ..., False, False, False],\n",
            "       [False, False, False, ..., False, False, False],\n",
            "       [False, False, False, ..., False, False, False],\n",
            "       ...,\n",
            "       [False, False, False, ..., False, False, False],\n",
            "       [False, False, False, ..., False, False, False],\n",
            "       [False, False, False, ..., False, False, False]]), 'area': 13541, 'bbox': [2, 2, 139, 133], 'predicted_iou': 1.0161386728286743, 'point_coords': [[118.421875, 109.96875]], 'stability_score': 0.9735171794891357, 'crop_box': [0, 0, 143, 138]}\n"
          ]
        }
      ],
      "source": [
        "print(cropped_apple_mask[0])"
      ]
    },
    {
      "cell_type": "markdown",
      "metadata": {
        "id": "16JJ4up__2IY"
      },
      "source": [
        "## Combining SAM and YOLO:\n"
      ]
    },
    {
      "cell_type": "markdown",
      "source": [
        "### Links:\n",
        "1. Yolo_v8 Detect: https://docs.ultralytics.com/tasks/detect/\n",
        "2. Yolo_v8 Colab: https://colab.research.google.com/github/ultralytics/ultralytics/blob/main/examples/tutorial.ipynb#scrollTo=yq26lwpYK1lq\n"
      ],
      "metadata": {
        "id": "TQIoBaB3E_yQ"
      }
    },
    {
      "cell_type": "markdown",
      "metadata": {
        "id": "5zU5yNHCAFag"
      },
      "source": [
        "### Download and instantiate YOLO:\n"
      ]
    },
    {
      "cell_type": "markdown",
      "metadata": {
        "id": "8eMmOaYz5MJ2"
      },
      "source": [
        "#### ------------- Testing with YOLO v8 -------------"
      ]
    },
    {
      "cell_type": "code",
      "execution_count": 12,
      "metadata": {
        "colab": {
          "base_uri": "https://localhost:8080/"
        },
        "id": "MXphvVX_5LMI",
        "outputId": "550cfee1-bd31-4648-fd55-e95f7f19fb0b"
      },
      "outputs": [
        {
          "output_type": "stream",
          "name": "stderr",
          "text": [
            "Ultralytics YOLOv8.0.109 🚀 Python-3.10.11 torch-2.0.1+cu118 CUDA:0 (Tesla T4, 15102MiB)\n",
            "Setup complete ✅ (2 CPUs, 12.7 GB RAM, 28.2/166.8 GB disk)\n"
          ]
        }
      ],
      "source": [
        "!pip install ultralytics\n",
        "import ultralytics\n",
        "ultralytics.checks()"
      ]
    },
    {
      "cell_type": "code",
      "execution_count": 13,
      "metadata": {
        "id": "P24fpNMs7SLi"
      },
      "outputs": [],
      "source": [
        "from ultralytics import YOLO\n",
        "model_path = '/content/drive/MyDrive/Fluid Segmentation Drive/yolov8n.pt'\n",
        "YOLO = YOLO(model_path)  # load a pretrained YOLOv8n detection model"
      ]
    },
    {
      "cell_type": "markdown",
      "metadata": {
        "id": "iiweGVXv5bma"
      },
      "source": [
        "\n",
        "#### ------------------------------------------------"
      ]
    },
    {
      "cell_type": "code",
      "execution_count": 14,
      "metadata": {
        "id": "_3YT4HxqqQ2H"
      },
      "outputs": [],
      "source": [
        "# !pip install torch torchvision opencv-python\n",
        "# !pip install yolov5\n",
        "# !wget https://github.com/ultralytics/yolov5/releases/download/v5.0/yolov5s.pt"
      ]
    },
    {
      "cell_type": "code",
      "execution_count": 15,
      "metadata": {
        "id": "vt1mACCUAL1I"
      },
      "outputs": [],
      "source": [
        "# # Load the YOLOv5 model\n",
        "# YOLO = torch.hub.load('ultralytics/yolov5', 'yolov5s')"
      ]
    },
    {
      "cell_type": "markdown",
      "metadata": {
        "id": "K775xt11IslF"
      },
      "source": [
        "### Process the video:"
      ]
    },
    {
      "cell_type": "code",
      "execution_count": 20,
      "metadata": {
        "id": "ned5EaLKoYSn"
      },
      "outputs": [],
      "source": [
        "def YOLO_SAM_Centroid(frame, model, poi='', yolo_centroid=True, sam_centroid=False, return_frame=True, \n",
        "                      display_mask=False, yolo_all=False):\n",
        "\n",
        "    if yolo_all or poi=='': # Work here: Assume yolo_centroid +\n",
        "          all_obj_img, x1, y1, x2, y2 = detect_objects(frame, model, detect_all=yolo_all)\n",
        "          warnings.warn(\"Warning! No point-of-interest object mentioned in 'poi' field. Returning bounding boxes of all items.\")\n",
        "    \n",
        "    og_img = frame.copy()\n",
        "    start_time_yolo = time.time()\n",
        "    # Perform object detection on the current frame\n",
        "    cropped_img, x1, y1, x2, y2 = detect_objects(frame, model, poi)\n",
        "    end_time_yolo = time.time()\n",
        "\n",
        "    if x1 == 0:\n",
        "      frame = cropped_img\n",
        "      if return_frame:\n",
        "          return frame, 0, 0\n",
        "      else:\n",
        "          return 0, 0\n",
        "\n",
        "    else:\n",
        "      if yolo_centroid: # Approximate and display the centroid using yolo bounding box\n",
        "          # frame = cropped_img\n",
        "          # Specify the color\n",
        "          color = (0, 255, 0)  # Green color -> BGR\n",
        "\n",
        "          # Specify the thickness\n",
        "          thickness = 2\n",
        "\n",
        "          # Specify the length of the lines of the cross\n",
        "          line_length = 5  \n",
        "\n",
        "          # Approximate the centroid using yolo bounding box\n",
        "          yolo_centX = (x2 + x1)//2\n",
        "          yolo_centY = (y2 + y1)//2\n",
        "\n",
        "          # print(\"YOLO Approximation centroid: x={}, y={}\\n\".format(yolo_centX, yolo_centY))\n",
        "          # Draw the first line of the cross (from top-left to bottom-right)\n",
        "          cv2.line(frame, (yolo_centX - line_length, yolo_centY - line_length), \n",
        "                          (yolo_centX + line_length, yolo_centY + line_length), color, thickness)\n",
        "\n",
        "          # Draw the second line of the cross (from top-right to bottom-left)\n",
        "          cv2.line(frame, (yolo_centX + line_length, yolo_centY - line_length), \n",
        "                          (yolo_centX - line_length, yolo_centY + line_length), color, thickness)\n",
        "\n",
        "          # Specify the font\n",
        "          font = cv2.FONT_HERSHEY_SIMPLEX\n",
        "\n",
        "          # Specify the size\n",
        "          size, thickness = 0.75, 2\n",
        "\n",
        "          coordinates_text = f\"({yolo_centX}, {yolo_centY})\"\n",
        "          cv2.putText(frame, coordinates_text, (yolo_centX - 50, yolo_centY - 50), font, size, color, thickness)\n",
        "\n",
        "          centroid_x, centroid_y = yolo_centX, yolo_centY\n",
        "\n",
        "      elif sam_centroid:\n",
        "          start_time_sam = time.time()\n",
        "          cropped_mask = model.generate(cropped_img)\n",
        "          end_time_sam = time.time()\n",
        "          print(\"Time elapsed SAM: {}s\".format(np.abs(end_time_sam - start_time_sam)))\n",
        "\n",
        "          cropped_mask_img, centroid_x, centroid_y = disp_mask_and_centroid(cropped_img, cropped_mask, disp_centroid=cropped_centroid)\n",
        "\n",
        "          if display_mask:\n",
        "            frame[y1:y2, x1:x2] = cv2.cvtColor(cropped_mask_img, cv2.COLOR_RGB2BGR)\n",
        "\n",
        "          ## Calculate actual centroids:\n",
        "          # add centroid x to x_min (x1) of bounding box, add centroid y to the y_min (y1) of the bounding box\n",
        "          sam_centX, sam_centY = centroid_x + x1, centroid_y + y1\n",
        "          \n",
        "\n",
        "          # Draw the actual centroids on the frame:\n",
        "          color = (0,0,255)  # Red color -> BGR\n",
        "          print(\"SAM Segmentation Centroid: x={}, y={}\\n\".format(sam_centX, sam_centY))\n",
        "\n",
        "          # Display the actual centroid on the frame\n",
        "          cv2.circle(frame, (sam_centX, sam_centY), radius=5, color=color, thickness=cv2.FILLED)\n",
        "\n",
        "          # Specify the font\n",
        "          font = cv2.FONT_HERSHEY_SIMPLEX\n",
        "\n",
        "          # Specify the size\n",
        "          size, thickness = 0.75, 2\n",
        "\n",
        "          coordinates_text = f\"({sam_centX}, {sam_centY})\"\n",
        "          cv2.putText(frame, coordinates_text, (sam_centX - 50, sam_centY - 10), font, size, color, thickness)\n",
        "\n",
        "          centroid_x, centroid_y = sam_centX, sam_centY\n",
        "\n",
        "      if return_frame:\n",
        "          return frame, centroid_x, centroid_y\n",
        "      else:\n",
        "          return centroid_x, centroid_y"
      ]
    },
    {
      "cell_type": "code",
      "execution_count": 21,
      "metadata": {
        "id": "ebaGLg4wFbrh"
      },
      "outputs": [],
      "source": [
        "def detect_objects(image, model, target_class='',  detect_all=False, print_class_specifics=False):\n",
        "  results = model.predict(image)\n",
        "\n",
        "  if detect_all:\n",
        "      img = results[0].plot()\n",
        "      return img, 0, 0, 0, 0\n",
        "\n",
        "  result = results[0]                                        \n",
        "  boxes = result.boxes.cpu().numpy()  \n",
        "  names = np.array([result.names[i] for i in boxes.cls])\n",
        "  indices = np.where(names == target_class)  # Search for target object\n",
        "  if len(indices[0]) != 0:  # Found a target object\n",
        "      x1, y1, x2, y2 = boxes[indices[0][0]].xyxy[0].astype(int)  # Get the box coordinates of the target\n",
        "\n",
        "      cropped_image = image[y1:y2, x1:x2]\n",
        "\n",
        "      return image, x1, y1, x2, y2\n",
        "      # return img, x1, y1, x2, y2\n",
        "\n",
        "  else:\n",
        "      return image, 0, 0, 0, 0"
      ]
    },
    {
      "cell_type": "code",
      "execution_count": 26,
      "metadata": {
        "colab": {
          "base_uri": "https://localhost:8080/"
        },
        "id": "vi-IAJJAIrN-",
        "outputId": "6f849564-26b5-4212-c120-0a06333faccb"
      },
      "outputs": [
        {
          "output_type": "stream",
          "name": "stderr",
          "text": [
            "\n",
            "0: 384x640 (no detections), 8.4ms\n",
            "Speed: 4.7ms preprocess, 8.4ms inference, 0.7ms postprocess per image at shape (1, 3, 640, 640)\n",
            "<ipython-input-21-e567c8bd6491>:11: FutureWarning: elementwise comparison failed; returning scalar instead, but in the future will perform elementwise comparison\n",
            "  indices = np.where(names == target_class)  # Search for target object\n",
            "\n",
            "0: 384x640 (no detections), 6.5ms\n",
            "Speed: 4.1ms preprocess, 6.5ms inference, 0.6ms postprocess per image at shape (1, 3, 640, 640)\n",
            "\n",
            "0: 384x640 1 cup, 7.1ms\n",
            "Speed: 4.4ms preprocess, 7.1ms inference, 1.6ms postprocess per image at shape (1, 3, 640, 640)\n",
            "\n",
            "0: 384x640 (no detections), 6.5ms\n",
            "Speed: 2.5ms preprocess, 6.5ms inference, 0.6ms postprocess per image at shape (1, 3, 640, 640)\n",
            "\n",
            "0: 384x640 1 cup, 34.1ms\n",
            "Speed: 7.0ms preprocess, 34.1ms inference, 2.8ms postprocess per image at shape (1, 3, 640, 640)\n",
            "\n",
            "0: 384x640 1 cup, 1 dining table, 14.2ms\n",
            "Speed: 3.3ms preprocess, 14.2ms inference, 2.7ms postprocess per image at shape (1, 3, 640, 640)\n",
            "\n",
            "0: 384x640 1 cup, 1 dining table, 13.2ms\n",
            "Speed: 2.6ms preprocess, 13.2ms inference, 2.2ms postprocess per image at shape (1, 3, 640, 640)\n",
            "\n",
            "0: 384x640 1 cup, 1 dining table, 13.8ms\n",
            "Speed: 2.7ms preprocess, 13.8ms inference, 2.9ms postprocess per image at shape (1, 3, 640, 640)\n",
            "\n",
            "0: 384x640 1 cup, 1 dining table, 14.1ms\n",
            "Speed: 2.8ms preprocess, 14.1ms inference, 2.8ms postprocess per image at shape (1, 3, 640, 640)\n",
            "\n",
            "0: 384x640 1 cup, 1 dining table, 13.6ms\n",
            "Speed: 2.6ms preprocess, 13.6ms inference, 2.7ms postprocess per image at shape (1, 3, 640, 640)\n",
            "\n",
            "0: 384x640 1 cup, 1 donut, 1 dining table, 11.2ms\n",
            "Speed: 2.7ms preprocess, 11.2ms inference, 2.0ms postprocess per image at shape (1, 3, 640, 640)\n",
            "\n",
            "0: 384x640 1 cup, 1 donut, 1 dining table, 12.6ms\n",
            "Speed: 2.4ms preprocess, 12.6ms inference, 15.2ms postprocess per image at shape (1, 3, 640, 640)\n",
            "\n",
            "0: 384x640 1 cup, 1 dining table, 13.5ms\n",
            "Speed: 2.5ms preprocess, 13.5ms inference, 2.8ms postprocess per image at shape (1, 3, 640, 640)\n",
            "\n",
            "0: 384x640 1 cup, 1 dining table, 15.2ms\n",
            "Speed: 2.5ms preprocess, 15.2ms inference, 3.8ms postprocess per image at shape (1, 3, 640, 640)\n",
            "\n",
            "0: 384x640 1 cup, 1 dining table, 13.7ms\n",
            "Speed: 4.2ms preprocess, 13.7ms inference, 2.7ms postprocess per image at shape (1, 3, 640, 640)\n",
            "\n",
            "0: 384x640 1 cup, 1 dining table, 12.7ms\n",
            "Speed: 4.0ms preprocess, 12.7ms inference, 2.4ms postprocess per image at shape (1, 3, 640, 640)\n",
            "\n",
            "0: 384x640 1 cup, 1 dining table, 15.7ms\n",
            "Speed: 2.6ms preprocess, 15.7ms inference, 2.0ms postprocess per image at shape (1, 3, 640, 640)\n",
            "\n",
            "0: 384x640 1 cup, 1 dining table, 13.9ms\n",
            "Speed: 3.8ms preprocess, 13.9ms inference, 2.7ms postprocess per image at shape (1, 3, 640, 640)\n",
            "\n",
            "0: 384x640 1 cup, 1 dining table, 13.5ms\n",
            "Speed: 3.9ms preprocess, 13.5ms inference, 2.7ms postprocess per image at shape (1, 3, 640, 640)\n",
            "\n",
            "0: 384x640 1 cup, 1 dining table, 11.5ms\n",
            "Speed: 4.1ms preprocess, 11.5ms inference, 2.3ms postprocess per image at shape (1, 3, 640, 640)\n",
            "\n",
            "0: 384x640 1 cup, 1 dining table, 13.3ms\n",
            "Speed: 3.9ms preprocess, 13.3ms inference, 2.4ms postprocess per image at shape (1, 3, 640, 640)\n",
            "\n",
            "0: 384x640 1 cup, 1 dining table, 14.4ms\n",
            "Speed: 4.0ms preprocess, 14.4ms inference, 2.9ms postprocess per image at shape (1, 3, 640, 640)\n",
            "\n",
            "0: 384x640 1 cup, 1 donut, 1 dining table, 14.4ms\n",
            "Speed: 2.5ms preprocess, 14.4ms inference, 2.8ms postprocess per image at shape (1, 3, 640, 640)\n",
            "\n",
            "0: 384x640 1 cup, 1 donut, 1 dining table, 13.7ms\n",
            "Speed: 3.6ms preprocess, 13.7ms inference, 2.8ms postprocess per image at shape (1, 3, 640, 640)\n",
            "\n",
            "0: 384x640 1 cup, 1 dining table, 13.0ms\n",
            "Speed: 3.3ms preprocess, 13.0ms inference, 2.8ms postprocess per image at shape (1, 3, 640, 640)\n",
            "\n",
            "0: 384x640 1 cup, 1 dining table, 10.0ms\n",
            "Speed: 3.8ms preprocess, 10.0ms inference, 2.4ms postprocess per image at shape (1, 3, 640, 640)\n",
            "\n",
            "0: 384x640 1 cup, 1 dining table, 15.1ms\n",
            "Speed: 3.9ms preprocess, 15.1ms inference, 3.3ms postprocess per image at shape (1, 3, 640, 640)\n",
            "\n",
            "0: 384x640 1 cup, 1 dining table, 36.9ms\n",
            "Speed: 2.7ms preprocess, 36.9ms inference, 2.6ms postprocess per image at shape (1, 3, 640, 640)\n",
            "\n",
            "0: 384x640 1 cup, 1 dining table, 26.2ms\n",
            "Speed: 2.9ms preprocess, 26.2ms inference, 1.7ms postprocess per image at shape (1, 3, 640, 640)\n",
            "\n",
            "0: 384x640 1 cup, 1 dining table, 6.7ms\n",
            "Speed: 2.7ms preprocess, 6.7ms inference, 1.5ms postprocess per image at shape (1, 3, 640, 640)\n",
            "\n",
            "0: 384x640 1 cup, 1 dining table, 7.3ms\n",
            "Speed: 2.4ms preprocess, 7.3ms inference, 1.7ms postprocess per image at shape (1, 3, 640, 640)\n",
            "\n",
            "0: 384x640 1 cup, 1 dining table, 6.7ms\n",
            "Speed: 3.8ms preprocess, 6.7ms inference, 1.5ms postprocess per image at shape (1, 3, 640, 640)\n",
            "\n",
            "0: 384x640 1 cup, 1 dining table, 7.8ms\n",
            "Speed: 2.4ms preprocess, 7.8ms inference, 1.6ms postprocess per image at shape (1, 3, 640, 640)\n",
            "\n",
            "0: 384x640 1 cup, 1 dining table, 7.4ms\n",
            "Speed: 2.5ms preprocess, 7.4ms inference, 1.6ms postprocess per image at shape (1, 3, 640, 640)\n",
            "\n",
            "0: 384x640 1 cup, 1 dining table, 10.0ms\n",
            "Speed: 2.8ms preprocess, 10.0ms inference, 2.1ms postprocess per image at shape (1, 3, 640, 640)\n",
            "\n",
            "0: 384x640 1 cup, 1 dining table, 10.2ms\n",
            "Speed: 2.7ms preprocess, 10.2ms inference, 2.3ms postprocess per image at shape (1, 3, 640, 640)\n",
            "\n",
            "0: 384x640 1 cup, 1 apple, 1 dining table, 6.5ms\n",
            "Speed: 2.6ms preprocess, 6.5ms inference, 1.4ms postprocess per image at shape (1, 3, 640, 640)\n",
            "\n",
            "0: 384x640 1 cup, 1 apple, 1 dining table, 6.3ms\n",
            "Speed: 3.1ms preprocess, 6.3ms inference, 1.7ms postprocess per image at shape (1, 3, 640, 640)\n",
            "\n",
            "0: 384x640 1 cup, 1 dining table, 7.7ms\n",
            "Speed: 2.2ms preprocess, 7.7ms inference, 1.5ms postprocess per image at shape (1, 3, 640, 640)\n",
            "\n",
            "0: 384x640 1 person, 1 cup, 1 apple, 1 dining table, 6.4ms\n",
            "Speed: 3.0ms preprocess, 6.4ms inference, 1.6ms postprocess per image at shape (1, 3, 640, 640)\n",
            "\n",
            "0: 384x640 1 cup, 1 dining table, 7.4ms\n",
            "Speed: 2.3ms preprocess, 7.4ms inference, 1.4ms postprocess per image at shape (1, 3, 640, 640)\n",
            "\n",
            "0: 384x640 1 person, 1 cup, 1 dining table, 8.2ms\n",
            "Speed: 3.8ms preprocess, 8.2ms inference, 1.7ms postprocess per image at shape (1, 3, 640, 640)\n",
            "\n",
            "0: 384x640 1 person, 1 cup, 1 dining table, 6.6ms\n",
            "Speed: 2.4ms preprocess, 6.6ms inference, 1.5ms postprocess per image at shape (1, 3, 640, 640)\n",
            "\n",
            "0: 384x640 2 persons, 1 cup, 1 apple, 1 dining table, 6.5ms\n",
            "Speed: 3.8ms preprocess, 6.5ms inference, 1.5ms postprocess per image at shape (1, 3, 640, 640)\n",
            "\n",
            "0: 384x640 3 persons, 1 cup, 1 apple, 1 dining table, 6.5ms\n",
            "Speed: 3.5ms preprocess, 6.5ms inference, 1.5ms postprocess per image at shape (1, 3, 640, 640)\n",
            "\n"
          ]
        },
        {
          "output_type": "stream",
          "name": "stdout",
          "text": [
            "Object Centroid: (486, 188)\n",
            "Object Centroid: (486, 188)\n",
            "Object Centroid: (486, 188)\n",
            "Object Centroid: (486, 188)\n",
            "Object Centroid: (486, 188)\n"
          ]
        },
        {
          "output_type": "stream",
          "name": "stderr",
          "text": [
            "0: 384x640 2 persons, 1 cup, 1 apple, 1 dining table, 9.5ms\n",
            "Speed: 3.8ms preprocess, 9.5ms inference, 2.2ms postprocess per image at shape (1, 3, 640, 640)\n",
            "\n",
            "0: 384x640 1 person, 1 cup, 1 apple, 1 dining table, 6.6ms\n",
            "Speed: 2.3ms preprocess, 6.6ms inference, 1.5ms postprocess per image at shape (1, 3, 640, 640)\n",
            "\n",
            "0: 384x640 2 persons, 1 cup, 1 apple, 1 dining table, 8.6ms\n",
            "Speed: 4.2ms preprocess, 8.6ms inference, 1.7ms postprocess per image at shape (1, 3, 640, 640)\n",
            "\n",
            "0: 384x640 1 person, 1 cup, 1 apple, 1 donut, 1 dining table, 6.8ms\n",
            "Speed: 2.3ms preprocess, 6.8ms inference, 1.5ms postprocess per image at shape (1, 3, 640, 640)\n",
            "\n",
            "0: 384x640 1 person, 1 cup, 1 apple, 1 donut, 1 dining table, 7.4ms\n",
            "Speed: 3.5ms preprocess, 7.4ms inference, 1.6ms postprocess per image at shape (1, 3, 640, 640)\n",
            "\n",
            "0: 384x640 2 persons, 1 cup, 1 apple, 1 donut, 1 dining table, 6.6ms\n",
            "Speed: 3.3ms preprocess, 6.6ms inference, 1.6ms postprocess per image at shape (1, 3, 640, 640)\n",
            "\n",
            "0: 384x640 2 persons, 1 cup, 1 apple, 6.5ms\n",
            "Speed: 3.8ms preprocess, 6.5ms inference, 1.8ms postprocess per image at shape (1, 3, 640, 640)\n",
            "\n",
            "0: 384x640 1 person, 1 cup, 1 apple, 1 donut, 1 tv, 6.7ms\n",
            "Speed: 3.6ms preprocess, 6.7ms inference, 1.5ms postprocess per image at shape (1, 3, 640, 640)\n",
            "\n",
            "0: 384x640 2 persons, 1 cup, 1 apple, 8.7ms\n",
            "Speed: 3.7ms preprocess, 8.7ms inference, 1.9ms postprocess per image at shape (1, 3, 640, 640)\n"
          ]
        },
        {
          "output_type": "stream",
          "name": "stdout",
          "text": [
            "Object Centroid: (486, 188)\n",
            "Object Centroid: (486, 188)\n",
            "Object Centroid: (486, 188)\n",
            "Object Centroid: (486, 188)\n",
            "Object Centroid: (486, 188)\n",
            "Object Centroid: (486, 188)\n",
            "Object Centroid: (486, 188)\n",
            "Object Centroid: (486, 188)\n"
          ]
        },
        {
          "output_type": "stream",
          "name": "stderr",
          "text": [
            "\n",
            "0: 384x640 1 person, 1 cup, 1 apple, 7.0ms\n",
            "Speed: 3.8ms preprocess, 7.0ms inference, 1.5ms postprocess per image at shape (1, 3, 640, 640)\n",
            "\n",
            "0: 384x640 1 person, 1 cup, 1 apple, 7.0ms\n",
            "Speed: 2.6ms preprocess, 7.0ms inference, 1.7ms postprocess per image at shape (1, 3, 640, 640)\n",
            "\n",
            "0: 384x640 1 person, 1 cup, 1 apple, 6.6ms\n",
            "Speed: 3.0ms preprocess, 6.6ms inference, 1.9ms postprocess per image at shape (1, 3, 640, 640)\n",
            "\n",
            "0: 384x640 2 persons, 1 cup, 7.2ms\n",
            "Speed: 2.6ms preprocess, 7.2ms inference, 1.5ms postprocess per image at shape (1, 3, 640, 640)\n",
            "\n",
            "0: 384x640 2 persons, 1 cup, 1 apple, 6.5ms\n",
            "Speed: 3.5ms preprocess, 6.5ms inference, 1.5ms postprocess per image at shape (1, 3, 640, 640)\n",
            "\n",
            "0: 384x640 2 persons, 1 cup, 6.4ms\n",
            "Speed: 2.5ms preprocess, 6.4ms inference, 1.5ms postprocess per image at shape (1, 3, 640, 640)\n",
            "\n",
            "0: 384x640 1 person, 1 cup, 7.0ms\n",
            "Speed: 3.0ms preprocess, 7.0ms inference, 1.6ms postprocess per image at shape (1, 3, 640, 640)\n",
            "\n",
            "0: 384x640 1 person, 1 cup, 6.5ms\n",
            "Speed: 3.2ms preprocess, 6.5ms inference, 1.5ms postprocess per image at shape (1, 3, 640, 640)\n",
            "\n"
          ]
        },
        {
          "output_type": "stream",
          "name": "stdout",
          "text": [
            "Object Centroid: (486, 188)\n",
            "Object Centroid: (486, 187)\n",
            "Object Centroid: (486, 188)\n",
            "Object Centroid: (486, 188)\n",
            "Object Centroid: (485, 188)\n"
          ]
        },
        {
          "output_type": "stream",
          "name": "stderr",
          "text": [
            "0: 384x640 1 person, 1 cup, 9.0ms\n",
            "Speed: 1.7ms preprocess, 9.0ms inference, 1.5ms postprocess per image at shape (1, 3, 640, 640)\n",
            "\n",
            "0: 384x640 1 person, 1 cup, 1 apple, 6.3ms\n",
            "Speed: 2.6ms preprocess, 6.3ms inference, 1.4ms postprocess per image at shape (1, 3, 640, 640)\n",
            "\n",
            "0: 384x640 1 person, 1 cup, 7.3ms\n",
            "Speed: 3.4ms preprocess, 7.3ms inference, 3.3ms postprocess per image at shape (1, 3, 640, 640)\n",
            "\n",
            "0: 384x640 1 person, 1 cup, 6.8ms\n",
            "Speed: 2.4ms preprocess, 6.8ms inference, 1.5ms postprocess per image at shape (1, 3, 640, 640)\n",
            "\n",
            "0: 384x640 1 person, 1 cup, 7.6ms\n",
            "Speed: 2.3ms preprocess, 7.6ms inference, 1.4ms postprocess per image at shape (1, 3, 640, 640)\n",
            "\n",
            "0: 384x640 1 person, 1 cup, 9.7ms\n",
            "Speed: 7.8ms preprocess, 9.7ms inference, 1.6ms postprocess per image at shape (1, 3, 640, 640)\n",
            "\n",
            "0: 384x640 1 person, 1 cup, 6.5ms\n",
            "Speed: 2.3ms preprocess, 6.5ms inference, 1.7ms postprocess per image at shape (1, 3, 640, 640)\n",
            "\n",
            "0: 384x640 2 persons, 1 cup, 8.2ms\n",
            "Speed: 2.4ms preprocess, 8.2ms inference, 1.6ms postprocess per image at shape (1, 3, 640, 640)\n",
            "\n",
            "0: 384x640 2 persons, 1 cup, 6.9ms\n",
            "Speed: 3.6ms preprocess, 6.9ms inference, 1.6ms postprocess per image at shape (1, 3, 640, 640)\n",
            "\n",
            "0: 384x640 2 persons, 1 cup, 12.2ms\n",
            "Speed: 3.3ms preprocess, 12.2ms inference, 2.1ms postprocess per image at shape (1, 3, 640, 640)\n"
          ]
        },
        {
          "output_type": "stream",
          "name": "stdout",
          "text": [
            "Object Centroid: (483, 190)\n"
          ]
        },
        {
          "output_type": "stream",
          "name": "stderr",
          "text": [
            "\n",
            "0: 384x640 1 person, 1 cup, 7.9ms\n",
            "Speed: 2.5ms preprocess, 7.9ms inference, 1.7ms postprocess per image at shape (1, 3, 640, 640)\n",
            "\n",
            "0: 384x640 1 person, 1 cup, 8.5ms\n",
            "Speed: 2.0ms preprocess, 8.5ms inference, 1.5ms postprocess per image at shape (1, 3, 640, 640)\n",
            "\n",
            "0: 384x640 1 person, 1 cup, 1 apple, 1 donut, 7.0ms\n",
            "Speed: 2.8ms preprocess, 7.0ms inference, 1.5ms postprocess per image at shape (1, 3, 640, 640)\n",
            "\n",
            "0: 384x640 1 person, 1 cup, 1 donut, 8.4ms\n",
            "Speed: 2.0ms preprocess, 8.4ms inference, 1.4ms postprocess per image at shape (1, 3, 640, 640)\n",
            "\n",
            "0: 384x640 2 persons, 1 cup, 1 donut, 7.3ms\n",
            "Speed: 2.3ms preprocess, 7.3ms inference, 1.5ms postprocess per image at shape (1, 3, 640, 640)\n",
            "\n",
            "0: 384x640 2 persons, 1 cup, 6.2ms\n",
            "Speed: 3.4ms preprocess, 6.2ms inference, 1.5ms postprocess per image at shape (1, 3, 640, 640)\n",
            "\n",
            "0: 384x640 1 person, 1 cup, 1 donut, 6.5ms\n",
            "Speed: 2.5ms preprocess, 6.5ms inference, 1.4ms postprocess per image at shape (1, 3, 640, 640)\n",
            "\n",
            "0: 384x640 1 person, 1 cup, 6.6ms\n",
            "Speed: 3.5ms preprocess, 6.6ms inference, 1.4ms postprocess per image at shape (1, 3, 640, 640)\n",
            "\n",
            "0: 384x640 1 person, 1 cup, 6.3ms\n",
            "Speed: 2.2ms preprocess, 6.3ms inference, 1.4ms postprocess per image at shape (1, 3, 640, 640)\n",
            "\n",
            "0: 384x640 1 person, 1 cup, 1 apple, 1 bed, 6.7ms\n",
            "Speed: 2.2ms preprocess, 6.7ms inference, 1.4ms postprocess per image at shape (1, 3, 640, 640)\n",
            "\n",
            "0: 384x640 1 person, 1 cup, 1 apple, 1 bed, 7.2ms\n",
            "Speed: 3.7ms preprocess, 7.2ms inference, 1.4ms postprocess per image at shape (1, 3, 640, 640)\n",
            "\n"
          ]
        },
        {
          "output_type": "stream",
          "name": "stdout",
          "text": [
            "Object Centroid: (493, 185)\n",
            "Object Centroid: (499, 158)\n",
            "Object Centroid: (499, 156)\n"
          ]
        },
        {
          "output_type": "stream",
          "name": "stderr",
          "text": [
            "0: 384x640 1 person, 1 cup, 1 bed, 8.4ms\n",
            "Speed: 2.4ms preprocess, 8.4ms inference, 2.1ms postprocess per image at shape (1, 3, 640, 640)\n",
            "\n",
            "0: 384x640 2 persons, 1 cup, 1 bed, 7.3ms\n",
            "Speed: 2.3ms preprocess, 7.3ms inference, 1.5ms postprocess per image at shape (1, 3, 640, 640)\n",
            "\n",
            "0: 384x640 2 persons, 1 cup, 1 apple, 1 bed, 6.9ms\n",
            "Speed: 3.6ms preprocess, 6.9ms inference, 1.6ms postprocess per image at shape (1, 3, 640, 640)\n",
            "\n",
            "0: 384x640 2 persons, 1 cup, 1 apple, 1 bed, 8.8ms\n",
            "Speed: 2.9ms preprocess, 8.8ms inference, 1.9ms postprocess per image at shape (1, 3, 640, 640)\n",
            "\n",
            "0: 384x640 1 person, 1 cup, 1 apple, 1 bed, 6.4ms\n",
            "Speed: 2.5ms preprocess, 6.4ms inference, 1.6ms postprocess per image at shape (1, 3, 640, 640)\n",
            "\n",
            "0: 384x640 1 person, 1 cup, 1 bed, 7.3ms\n",
            "Speed: 3.9ms preprocess, 7.3ms inference, 1.5ms postprocess per image at shape (1, 3, 640, 640)\n",
            "\n",
            "0: 384x640 1 person, 1 cup, 1 bed, 7.8ms\n",
            "Speed: 4.0ms preprocess, 7.8ms inference, 1.6ms postprocess per image at shape (1, 3, 640, 640)\n",
            "\n",
            "0: 384x640 1 person, 1 cup, 1 bed, 6.8ms\n",
            "Speed: 3.2ms preprocess, 6.8ms inference, 1.7ms postprocess per image at shape (1, 3, 640, 640)\n",
            "\n",
            "0: 384x640 1 person, 1 cup, 1 apple, 1 bed, 6.7ms\n",
            "Speed: 3.3ms preprocess, 6.7ms inference, 1.6ms postprocess per image at shape (1, 3, 640, 640)\n",
            "\n",
            "0: 384x640 1 person, 1 cup, 1 apple, 1 bed, 6.5ms\n",
            "Speed: 3.6ms preprocess, 6.5ms inference, 1.4ms postprocess per image at shape (1, 3, 640, 640)\n",
            "\n",
            "0: 384x640 1 person, 1 cup, 1 apple, 1 bed, 6.6ms\n",
            "Speed: 2.3ms preprocess, 6.6ms inference, 1.4ms postprocess per image at shape (1, 3, 640, 640)\n",
            "\n"
          ]
        },
        {
          "output_type": "stream",
          "name": "stdout",
          "text": [
            "Object Centroid: (503, 142)\n",
            "Object Centroid: (504, 139)\n",
            "Object Centroid: (505, 138)\n",
            "Object Centroid: (510, 140)\n",
            "Object Centroid: (511, 141)\n",
            "Object Centroid: (511, 141)\n"
          ]
        },
        {
          "output_type": "stream",
          "name": "stderr",
          "text": [
            "0: 384x640 1 person, 1 cup, 1 apple, 1 bed, 8.9ms\n",
            "Speed: 4.3ms preprocess, 8.9ms inference, 1.5ms postprocess per image at shape (1, 3, 640, 640)\n",
            "\n",
            "0: 384x640 1 person, 1 cup, 1 apple, 1 bed, 7.0ms\n",
            "Speed: 2.9ms preprocess, 7.0ms inference, 1.5ms postprocess per image at shape (1, 3, 640, 640)\n",
            "\n",
            "0: 384x640 2 persons, 1 cup, 1 apple, 1 bed, 6.7ms\n",
            "Speed: 3.7ms preprocess, 6.7ms inference, 1.5ms postprocess per image at shape (1, 3, 640, 640)\n",
            "\n",
            "0: 384x640 1 person, 1 apple, 1 bed, 6.6ms\n",
            "Speed: 3.8ms preprocess, 6.6ms inference, 1.6ms postprocess per image at shape (1, 3, 640, 640)\n",
            "\n",
            "0: 384x640 2 persons, 1 apple, 1 bed, 6.6ms\n",
            "Speed: 3.7ms preprocess, 6.6ms inference, 1.6ms postprocess per image at shape (1, 3, 640, 640)\n",
            "\n",
            "0: 384x640 2 persons, 1 cup, 1 bed, 7.0ms\n",
            "Speed: 2.4ms preprocess, 7.0ms inference, 1.8ms postprocess per image at shape (1, 3, 640, 640)\n",
            "\n",
            "0: 384x640 1 person, 1 cup, 1 bed, 6.9ms\n",
            "Speed: 3.8ms preprocess, 6.9ms inference, 1.6ms postprocess per image at shape (1, 3, 640, 640)\n",
            "\n",
            "0: 384x640 1 person, 1 cup, 1 apple, 1 bed, 6.7ms\n",
            "Speed: 3.6ms preprocess, 6.7ms inference, 1.6ms postprocess per image at shape (1, 3, 640, 640)\n",
            "\n",
            "0: 384x640 1 person, 1 apple, 1 bed, 6.9ms\n",
            "Speed: 4.0ms preprocess, 6.9ms inference, 2.1ms postprocess per image at shape (1, 3, 640, 640)\n"
          ]
        },
        {
          "output_type": "stream",
          "name": "stdout",
          "text": [
            "Object Centroid: (512, 141)\n",
            "Object Centroid: (513, 141)\n",
            "Object Centroid: (514, 141)\n",
            "Object Centroid: (515, 141)\n",
            "Object Centroid: (517, 140)\n",
            "Object Centroid: (524, 140)\n"
          ]
        },
        {
          "output_type": "stream",
          "name": "stderr",
          "text": [
            "\n",
            "0: 384x640 1 person, 1 cup, 1 apple, 1 bed, 7.0ms\n",
            "Speed: 3.9ms preprocess, 7.0ms inference, 1.6ms postprocess per image at shape (1, 3, 640, 640)\n",
            "\n",
            "0: 384x640 1 person, 1 apple, 1 bed, 9.5ms\n",
            "Speed: 3.8ms preprocess, 9.5ms inference, 2.0ms postprocess per image at shape (1, 3, 640, 640)\n",
            "\n",
            "0: 384x640 1 person, 1 apple, 1 bed, 12.3ms\n",
            "Speed: 2.2ms preprocess, 12.3ms inference, 2.2ms postprocess per image at shape (1, 3, 640, 640)\n",
            "\n",
            "0: 384x640 1 person, 1 bed, 6.2ms\n",
            "Speed: 3.5ms preprocess, 6.2ms inference, 1.4ms postprocess per image at shape (1, 3, 640, 640)\n",
            "\n",
            "0: 384x640 1 person, 1 apple, 1 bed, 6.3ms\n",
            "Speed: 3.2ms preprocess, 6.3ms inference, 1.4ms postprocess per image at shape (1, 3, 640, 640)\n",
            "\n",
            "0: 384x640 1 person, 1 cup, 1 apple, 1 bed, 11.7ms\n",
            "Speed: 2.1ms preprocess, 11.7ms inference, 2.2ms postprocess per image at shape (1, 3, 640, 640)\n",
            "\n",
            "0: 384x640 1 person, 1 cup, 1 apple, 1 bed, 7.4ms\n",
            "Speed: 2.3ms preprocess, 7.4ms inference, 1.5ms postprocess per image at shape (1, 3, 640, 640)\n",
            "\n"
          ]
        },
        {
          "output_type": "stream",
          "name": "stdout",
          "text": [
            "Object Centroid: (527, 139)\n",
            "Object Centroid: (529, 139)\n",
            "Object Centroid: (532, 140)\n",
            "Object Centroid: (532, 140)\n",
            "Object Centroid: (531, 142)\n",
            "Object Centroid: (529, 142)\n",
            "Object Centroid: (527, 142)\n"
          ]
        },
        {
          "output_type": "stream",
          "name": "stderr",
          "text": [
            "0: 384x640 1 person, 1 cup, 1 apple, 1 bed, 6.7ms\n",
            "Speed: 3.4ms preprocess, 6.7ms inference, 2.1ms postprocess per image at shape (1, 3, 640, 640)\n",
            "\n",
            "0: 384x640 1 person, 1 cup, 1 apple, 1 bed, 6.7ms\n",
            "Speed: 3.3ms preprocess, 6.7ms inference, 1.4ms postprocess per image at shape (1, 3, 640, 640)\n",
            "\n",
            "0: 384x640 1 person, 1 cup, 1 apple, 1 bed, 6.6ms\n",
            "Speed: 3.7ms preprocess, 6.6ms inference, 1.9ms postprocess per image at shape (1, 3, 640, 640)\n",
            "\n",
            "0: 384x640 1 person, 1 cup, 1 apple, 1 bed, 6.4ms\n",
            "Speed: 2.6ms preprocess, 6.4ms inference, 1.4ms postprocess per image at shape (1, 3, 640, 640)\n",
            "\n",
            "0: 384x640 1 person, 1 cup, 1 apple, 1 bed, 10.2ms\n",
            "Speed: 1.9ms preprocess, 10.2ms inference, 1.9ms postprocess per image at shape (1, 3, 640, 640)\n",
            "\n",
            "0: 384x640 1 person, 1 cup, 1 apple, 7.3ms\n",
            "Speed: 6.7ms preprocess, 7.3ms inference, 1.5ms postprocess per image at shape (1, 3, 640, 640)\n",
            "\n",
            "0: 384x640 1 person, 1 cup, 1 apple, 8.3ms\n",
            "Speed: 2.0ms preprocess, 8.3ms inference, 1.5ms postprocess per image at shape (1, 3, 640, 640)\n",
            "\n",
            "0: 384x640 1 person, 1 cup, 1 apple, 6.8ms\n",
            "Speed: 2.8ms preprocess, 6.8ms inference, 1.5ms postprocess per image at shape (1, 3, 640, 640)\n",
            "\n",
            "0: 384x640 1 person, 1 cup, 1 apple, 7.4ms\n",
            "Speed: 2.8ms preprocess, 7.4ms inference, 1.5ms postprocess per image at shape (1, 3, 640, 640)\n",
            "\n"
          ]
        },
        {
          "output_type": "stream",
          "name": "stdout",
          "text": [
            "Object Centroid: (524, 140)\n",
            "Object Centroid: (520, 139)\n",
            "Object Centroid: (517, 137)\n",
            "Object Centroid: (513, 135)\n",
            "Object Centroid: (508, 134)\n",
            "Object Centroid: (503, 133)\n",
            "Object Centroid: (500, 133)\n",
            "Object Centroid: (498, 134)\n",
            "Object Centroid: (497, 135)\n"
          ]
        },
        {
          "output_type": "stream",
          "name": "stderr",
          "text": [
            "0: 384x640 1 person, 1 cup, 1 apple, 6.9ms\n",
            "Speed: 4.4ms preprocess, 6.9ms inference, 1.7ms postprocess per image at shape (1, 3, 640, 640)\n",
            "\n",
            "0: 384x640 1 person, 1 cup, 1 apple, 7.8ms\n",
            "Speed: 2.0ms preprocess, 7.8ms inference, 1.9ms postprocess per image at shape (1, 3, 640, 640)\n",
            "\n",
            "0: 384x640 1 person, 1 cup, 1 apple, 7.4ms\n",
            "Speed: 2.1ms preprocess, 7.4ms inference, 1.6ms postprocess per image at shape (1, 3, 640, 640)\n",
            "\n",
            "0: 384x640 1 person, 1 cup, 1 apple, 10.0ms\n",
            "Speed: 2.6ms preprocess, 10.0ms inference, 1.6ms postprocess per image at shape (1, 3, 640, 640)\n",
            "\n",
            "0: 384x640 1 person, 1 cup, 1 apple, 6.9ms\n",
            "Speed: 3.3ms preprocess, 6.9ms inference, 1.5ms postprocess per image at shape (1, 3, 640, 640)\n",
            "\n",
            "0: 384x640 1 person, 1 cup, 6.8ms\n",
            "Speed: 2.6ms preprocess, 6.8ms inference, 1.6ms postprocess per image at shape (1, 3, 640, 640)\n",
            "\n",
            "0: 384x640 1 person, 1 cup, 8.2ms\n",
            "Speed: 2.1ms preprocess, 8.2ms inference, 1.8ms postprocess per image at shape (1, 3, 640, 640)\n",
            "\n",
            "0: 384x640 1 person, 1 cup, 9.7ms\n",
            "Speed: 2.2ms preprocess, 9.7ms inference, 2.3ms postprocess per image at shape (1, 3, 640, 640)\n",
            "\n",
            "0: 384x640 1 person, 1 cup, 1 dining table, 7.1ms\n"
          ]
        },
        {
          "output_type": "stream",
          "name": "stdout",
          "text": [
            "Object Centroid: (496, 136)\n",
            "Object Centroid: (497, 135)\n",
            "Object Centroid: (496, 135)\n",
            "Object Centroid: (496, 134)\n",
            "Object Centroid: (494, 133)\n"
          ]
        },
        {
          "output_type": "stream",
          "name": "stderr",
          "text": [
            "Speed: 2.4ms preprocess, 7.1ms inference, 1.7ms postprocess per image at shape (1, 3, 640, 640)\n",
            "\n",
            "0: 384x640 2 persons, 1 cup, 1 dining table, 6.5ms\n",
            "Speed: 2.3ms preprocess, 6.5ms inference, 1.4ms postprocess per image at shape (1, 3, 640, 640)\n",
            "\n",
            "0: 384x640 2 persons, 1 cup, 1 dining table, 6.7ms\n",
            "Speed: 2.5ms preprocess, 6.7ms inference, 1.6ms postprocess per image at shape (1, 3, 640, 640)\n",
            "\n",
            "0: 384x640 2 persons, 1 cup, 1 dining table, 7.6ms\n",
            "Speed: 2.3ms preprocess, 7.6ms inference, 1.5ms postprocess per image at shape (1, 3, 640, 640)\n",
            "\n",
            "0: 384x640 2 persons, 1 cup, 1 dining table, 6.5ms\n",
            "Speed: 1.9ms preprocess, 6.5ms inference, 1.5ms postprocess per image at shape (1, 3, 640, 640)\n",
            "\n",
            "0: 384x640 3 persons, 1 cup, 1 dining table, 6.5ms\n",
            "Speed: 2.6ms preprocess, 6.5ms inference, 1.4ms postprocess per image at shape (1, 3, 640, 640)\n",
            "\n",
            "0: 384x640 3 persons, 1 cup, 1 dining table, 6.6ms\n",
            "Speed: 1.8ms preprocess, 6.6ms inference, 1.7ms postprocess per image at shape (1, 3, 640, 640)\n",
            "\n",
            "0: 384x640 2 persons, 1 cup, 1 dining table, 6.4ms\n",
            "Speed: 3.2ms preprocess, 6.4ms inference, 1.6ms postprocess per image at shape (1, 3, 640, 640)\n",
            "\n",
            "0: 384x640 2 persons, 1 cup, 1 dining table, 7.3ms\n",
            "Speed: 2.2ms preprocess, 7.3ms inference, 1.9ms postprocess per image at shape (1, 3, 640, 640)\n",
            "\n",
            "0: 384x640 2 persons, 1 cup, 1 dining table, 7.0ms\n",
            "Speed: 3.7ms preprocess, 7.0ms inference, 1.5ms postprocess per image at shape (1, 3, 640, 640)\n",
            "\n",
            "0: 384x640 2 persons, 1 cup, 1 apple, 1 dining table, 7.2ms\n",
            "Speed: 2.8ms preprocess, 7.2ms inference, 1.8ms postprocess per image at shape (1, 3, 640, 640)\n",
            "\n",
            "0: 384x640 2 persons, 1 cup, 1 apple, 6.7ms\n",
            "Speed: 3.5ms preprocess, 6.7ms inference, 1.5ms postprocess per image at shape (1, 3, 640, 640)\n",
            "\n",
            "0: 384x640 1 person, 1 cup, 1 apple, 9.1ms\n",
            "Speed: 2.6ms preprocess, 9.1ms inference, 1.6ms postprocess per image at shape (1, 3, 640, 640)\n",
            "\n",
            "0: 384x640 2 persons, 1 cup, 1 apple, 6.6ms\n",
            "Speed: 3.3ms preprocess, 6.6ms inference, 1.4ms postprocess per image at shape (1, 3, 640, 640)\n",
            "\n",
            "0: 384x640 1 person, 1 cup, 1 apple, 8.2ms\n",
            "Speed: 1.9ms preprocess, 8.2ms inference, 1.6ms postprocess per image at shape (1, 3, 640, 640)\n",
            "\n",
            "0: 384x640 2 persons, 1 cup, 1 apple, 6.6ms\n",
            "Speed: 2.4ms preprocess, 6.6ms inference, 1.4ms postprocess per image at shape (1, 3, 640, 640)\n",
            "\n",
            "0: 384x640 1 person, 1 cup, 1 apple, 8.1ms\n",
            "Speed: 2.1ms preprocess, 8.1ms inference, 1.4ms postprocess per image at shape (1, 3, 640, 640)\n",
            "\n",
            "0: 384x640 1 person, 1 cup, 1 apple, 6.6ms\n",
            "Speed: 3.8ms preprocess, 6.6ms inference, 1.5ms postprocess per image at shape (1, 3, 640, 640)\n",
            "\n",
            "0: 384x640 1 person, 1 cup, 1 apple, 6.5ms\n",
            "Speed: 3.5ms preprocess, 6.5ms inference, 2.1ms postprocess per image at shape (1, 3, 640, 640)\n",
            "\n"
          ]
        },
        {
          "output_type": "stream",
          "name": "stdout",
          "text": [
            "Object Centroid: (483, 140)\n",
            "Object Centroid: (481, 141)\n",
            "Object Centroid: (480, 145)\n",
            "Object Centroid: (479, 147)\n",
            "Object Centroid: (480, 150)\n",
            "Object Centroid: (480, 153)\n",
            "Object Centroid: (480, 156)\n",
            "Object Centroid: (479, 159)\n",
            "Object Centroid: (476, 162)\n"
          ]
        },
        {
          "output_type": "stream",
          "name": "stderr",
          "text": [
            "0: 384x640 1 person, 1 cup, 1 apple, 11.2ms\n",
            "Speed: 7.1ms preprocess, 11.2ms inference, 1.9ms postprocess per image at shape (1, 3, 640, 640)\n",
            "\n",
            "0: 384x640 1 person, 1 cup, 1 apple, 6.7ms\n",
            "Speed: 3.6ms preprocess, 6.7ms inference, 1.5ms postprocess per image at shape (1, 3, 640, 640)\n",
            "\n",
            "0: 384x640 1 person, 1 cup, 1 apple, 7.4ms\n",
            "Speed: 2.5ms preprocess, 7.4ms inference, 1.8ms postprocess per image at shape (1, 3, 640, 640)\n",
            "\n",
            "0: 384x640 1 person, 1 cup, 1 apple, 9.3ms\n",
            "Speed: 3.6ms preprocess, 9.3ms inference, 1.8ms postprocess per image at shape (1, 3, 640, 640)\n",
            "\n",
            "0: 384x640 1 person, 1 cup, 1 apple, 6.5ms\n",
            "Speed: 2.6ms preprocess, 6.5ms inference, 1.8ms postprocess per image at shape (1, 3, 640, 640)\n",
            "\n",
            "0: 384x640 1 person, 1 cup, 1 apple, 6.4ms\n",
            "Speed: 3.4ms preprocess, 6.4ms inference, 1.5ms postprocess per image at shape (1, 3, 640, 640)\n",
            "\n",
            "0: 384x640 1 person, 1 cup, 1 apple, 11.5ms\n",
            "Speed: 4.1ms preprocess, 11.5ms inference, 1.6ms postprocess per image at shape (1, 3, 640, 640)\n",
            "\n",
            "0: 384x640 2 persons, 1 cup, 1 apple, 6.6ms\n",
            "Speed: 2.6ms preprocess, 6.6ms inference, 1.5ms postprocess per image at shape (1, 3, 640, 640)\n",
            "\n",
            "0: 384x640 2 persons, 1 cup, 1 apple, 6.3ms\n",
            "Speed: 3.0ms preprocess, 6.3ms inference, 1.4ms postprocess per image at shape (1, 3, 640, 640)\n"
          ]
        },
        {
          "output_type": "stream",
          "name": "stdout",
          "text": [
            "Object Centroid: (475, 165)\n",
            "Object Centroid: (475, 168)\n",
            "Object Centroid: (474, 173)\n",
            "Object Centroid: (473, 175)\n",
            "Object Centroid: (473, 178)\n",
            "Object Centroid: (472, 183)\n",
            "Object Centroid: (472, 185)\n",
            "Object Centroid: (469, 188)\n",
            "Object Centroid: (468, 191)\n"
          ]
        },
        {
          "output_type": "stream",
          "name": "stderr",
          "text": [
            "\n",
            "0: 384x640 2 persons, 1 cup, 1 apple, 7.9ms\n",
            "Speed: 1.9ms preprocess, 7.9ms inference, 1.5ms postprocess per image at shape (1, 3, 640, 640)\n",
            "\n",
            "0: 384x640 1 person, 1 cup, 1 apple, 7.0ms\n",
            "Speed: 2.5ms preprocess, 7.0ms inference, 2.2ms postprocess per image at shape (1, 3, 640, 640)\n",
            "\n",
            "0: 384x640 1 person, 1 cup, 1 apple, 8.4ms\n",
            "Speed: 2.1ms preprocess, 8.4ms inference, 1.5ms postprocess per image at shape (1, 3, 640, 640)\n",
            "\n",
            "0: 384x640 1 person, 1 cup, 1 apple, 6.4ms\n",
            "Speed: 3.2ms preprocess, 6.4ms inference, 1.6ms postprocess per image at shape (1, 3, 640, 640)\n",
            "\n",
            "0: 384x640 1 person, 1 cup, 1 apple, 6.7ms\n",
            "Speed: 2.6ms preprocess, 6.7ms inference, 1.4ms postprocess per image at shape (1, 3, 640, 640)\n",
            "\n",
            "0: 384x640 1 person, 1 cup, 1 apple, 7.0ms\n",
            "Speed: 2.5ms preprocess, 7.0ms inference, 1.4ms postprocess per image at shape (1, 3, 640, 640)\n",
            "\n",
            "0: 384x640 1 person, 1 cup, 1 apple, 6.3ms\n",
            "Speed: 3.7ms preprocess, 6.3ms inference, 1.7ms postprocess per image at shape (1, 3, 640, 640)\n",
            "\n",
            "0: 384x640 1 person, 1 cup, 1 apple, 6.4ms\n",
            "Speed: 2.5ms preprocess, 6.4ms inference, 1.5ms postprocess per image at shape (1, 3, 640, 640)\n",
            "\n",
            "0: 384x640 1 person, 1 cup, 1 apple, 7.0ms\n",
            "Speed: 3.4ms preprocess, 7.0ms inference, 1.7ms postprocess per image at shape (1, 3, 640, 640)\n",
            "\n"
          ]
        },
        {
          "output_type": "stream",
          "name": "stdout",
          "text": [
            "Object Centroid: (467, 195)\n",
            "Object Centroid: (466, 198)\n",
            "Object Centroid: (466, 201)\n",
            "Object Centroid: (464, 205)\n",
            "Object Centroid: (463, 208)\n",
            "Object Centroid: (462, 211)\n",
            "Object Centroid: (461, 214)\n",
            "Object Centroid: (460, 217)\n",
            "Object Centroid: (460, 219)\n"
          ]
        },
        {
          "output_type": "stream",
          "name": "stderr",
          "text": [
            "0: 384x640 1 person, 1 cup, 1 apple, 9.8ms\n",
            "Speed: 3.3ms preprocess, 9.8ms inference, 1.5ms postprocess per image at shape (1, 3, 640, 640)\n",
            "\n",
            "0: 384x640 1 person, 1 cup, 1 apple, 6.7ms\n",
            "Speed: 3.4ms preprocess, 6.7ms inference, 1.6ms postprocess per image at shape (1, 3, 640, 640)\n",
            "\n",
            "0: 384x640 1 person, 1 cup, 1 apple, 7.1ms\n",
            "Speed: 4.1ms preprocess, 7.1ms inference, 1.8ms postprocess per image at shape (1, 3, 640, 640)\n",
            "\n",
            "0: 384x640 2 persons, 1 cup, 1 apple, 6.6ms\n",
            "Speed: 3.9ms preprocess, 6.6ms inference, 1.5ms postprocess per image at shape (1, 3, 640, 640)\n",
            "\n",
            "0: 384x640 1 person, 1 cup, 1 apple, 7.1ms\n",
            "Speed: 3.6ms preprocess, 7.1ms inference, 1.6ms postprocess per image at shape (1, 3, 640, 640)\n",
            "\n",
            "0: 384x640 1 person, 1 cup, 1 apple, 1 dining table, 6.4ms\n",
            "Speed: 2.3ms preprocess, 6.4ms inference, 1.6ms postprocess per image at shape (1, 3, 640, 640)\n",
            "\n",
            "0: 384x640 1 person, 1 cup, 1 apple, 6.4ms\n",
            "Speed: 3.5ms preprocess, 6.4ms inference, 1.8ms postprocess per image at shape (1, 3, 640, 640)\n",
            "\n",
            "0: 384x640 1 person, 1 cup, 1 apple, 1 dining table, 6.5ms\n",
            "Speed: 3.4ms preprocess, 6.5ms inference, 1.5ms postprocess per image at shape (1, 3, 640, 640)\n",
            "\n",
            "0: 384x640 1 person, 1 cup, 1 apple, 1 dining table, 6.4ms\n",
            "Speed: 3.5ms preprocess, 6.4ms inference, 1.4ms postprocess per image at shape (1, 3, 640, 640)\n",
            "\n"
          ]
        },
        {
          "output_type": "stream",
          "name": "stdout",
          "text": [
            "Object Centroid: (459, 221)\n",
            "Object Centroid: (461, 222)\n",
            "Object Centroid: (462, 222)\n",
            "Object Centroid: (462, 220)\n",
            "Object Centroid: (463, 216)\n",
            "Object Centroid: (463, 212)\n",
            "Object Centroid: (462, 208)\n",
            "Object Centroid: (462, 202)\n",
            "Object Centroid: (461, 198)\n"
          ]
        },
        {
          "output_type": "stream",
          "name": "stderr",
          "text": [
            "0: 384x640 2 persons, 1 cup, 1 apple, 1 dining table, 6.8ms\n",
            "Speed: 6.0ms preprocess, 6.8ms inference, 1.4ms postprocess per image at shape (1, 3, 640, 640)\n",
            "\n",
            "0: 384x640 2 persons, 1 cup, 1 apple, 1 dining table, 6.3ms\n",
            "Speed: 3.7ms preprocess, 6.3ms inference, 1.4ms postprocess per image at shape (1, 3, 640, 640)\n",
            "\n",
            "0: 384x640 1 person, 1 cup, 1 apple, 1 dining table, 6.4ms\n",
            "Speed: 4.0ms preprocess, 6.4ms inference, 1.5ms postprocess per image at shape (1, 3, 640, 640)\n",
            "\n",
            "0: 384x640 2 persons, 1 cup, 1 apple, 6.3ms\n",
            "Speed: 2.9ms preprocess, 6.3ms inference, 1.6ms postprocess per image at shape (1, 3, 640, 640)\n",
            "\n",
            "0: 384x640 1 person, 1 cup, 1 apple, 1 dining table, 6.4ms\n",
            "Speed: 2.2ms preprocess, 6.4ms inference, 1.4ms postprocess per image at shape (1, 3, 640, 640)\n",
            "\n",
            "0: 384x640 1 person, 1 cup, 1 apple, 1 dining table, 6.5ms\n",
            "Speed: 3.3ms preprocess, 6.5ms inference, 1.4ms postprocess per image at shape (1, 3, 640, 640)\n",
            "\n",
            "0: 384x640 1 person, 1 cup, 1 apple, 1 orange, 1 dining table, 6.2ms\n",
            "Speed: 2.3ms preprocess, 6.2ms inference, 1.4ms postprocess per image at shape (1, 3, 640, 640)\n",
            "\n",
            "0: 384x640 1 person, 1 apple, 1 dining table, 7.0ms\n",
            "Speed: 3.8ms preprocess, 7.0ms inference, 1.4ms postprocess per image at shape (1, 3, 640, 640)\n",
            "\n",
            "0: 384x640 1 person, 1 cup, 1 apple, 1 dining table, 6.4ms\n",
            "Speed: 3.4ms preprocess, 6.4ms inference, 1.4ms postprocess per image at shape (1, 3, 640, 640)\n",
            "\n"
          ]
        },
        {
          "output_type": "stream",
          "name": "stdout",
          "text": [
            "Object Centroid: (460, 191)\n",
            "Object Centroid: (459, 184)\n",
            "Object Centroid: (458, 178)\n",
            "Object Centroid: (455, 171)\n",
            "Object Centroid: (453, 163)\n",
            "Object Centroid: (451, 158)\n",
            "Object Centroid: (450, 155)\n",
            "Object Centroid: (448, 150)\n",
            "Object Centroid: (446, 147)\n"
          ]
        },
        {
          "output_type": "stream",
          "name": "stderr",
          "text": [
            "0: 384x640 2 persons, 1 cup, 1 dining table, 7.4ms\n",
            "Speed: 4.6ms preprocess, 7.4ms inference, 1.5ms postprocess per image at shape (1, 3, 640, 640)\n",
            "\n",
            "0: 384x640 1 person, 1 cup, 1 dining table, 6.6ms\n",
            "Speed: 2.9ms preprocess, 6.6ms inference, 1.5ms postprocess per image at shape (1, 3, 640, 640)\n",
            "\n",
            "0: 384x640 1 person, 1 cup, 1 dining table, 1 tv, 6.7ms\n",
            "Speed: 2.5ms preprocess, 6.7ms inference, 1.5ms postprocess per image at shape (1, 3, 640, 640)\n",
            "\n",
            "0: 384x640 1 person, 1 cup, 1 dining table, 1 tv, 10.0ms\n",
            "Speed: 2.2ms preprocess, 10.0ms inference, 1.9ms postprocess per image at shape (1, 3, 640, 640)\n",
            "\n",
            "0: 384x640 1 person, 1 cup, 1 dining table, 6.5ms\n",
            "Speed: 3.5ms preprocess, 6.5ms inference, 1.5ms postprocess per image at shape (1, 3, 640, 640)\n",
            "\n",
            "0: 384x640 1 person, 1 cup, 1 dining table, 7.6ms\n",
            "Speed: 3.5ms preprocess, 7.6ms inference, 1.5ms postprocess per image at shape (1, 3, 640, 640)\n",
            "\n",
            "0: 384x640 1 person, 1 cup, 1 dining table, 6.3ms\n",
            "Speed: 3.4ms preprocess, 6.3ms inference, 1.5ms postprocess per image at shape (1, 3, 640, 640)\n",
            "\n",
            "0: 384x640 1 person, 1 cup, 1 dining table, 6.3ms\n",
            "Speed: 3.2ms preprocess, 6.3ms inference, 1.5ms postprocess per image at shape (1, 3, 640, 640)\n",
            "\n",
            "0: 384x640 1 person, 1 cup, 1 dining table, 6.4ms\n",
            "Speed: 3.5ms preprocess, 6.4ms inference, 1.4ms postprocess per image at shape (1, 3, 640, 640)\n",
            "\n",
            "0: 384x640 1 person, 1 cup, 1 dining table, 12.2ms\n",
            "Speed: 2.5ms preprocess, 12.2ms inference, 1.5ms postprocess per image at shape (1, 3, 640, 640)\n",
            "\n",
            "0: 384x640 1 person, 1 dining table, 7.1ms\n",
            "Speed: 2.5ms preprocess, 7.1ms inference, 1.6ms postprocess per image at shape (1, 3, 640, 640)\n",
            "\n",
            "0: 384x640 1 person, 1 dining table, 8.1ms\n",
            "Speed: 2.6ms preprocess, 8.1ms inference, 1.6ms postprocess per image at shape (1, 3, 640, 640)\n",
            "\n",
            "0: 384x640 1 person, 1 dining table, 9.5ms\n",
            "Speed: 2.7ms preprocess, 9.5ms inference, 1.5ms postprocess per image at shape (1, 3, 640, 640)\n",
            "\n",
            "0: 384x640 1 person, 1 dining table, 6.6ms\n",
            "Speed: 2.9ms preprocess, 6.6ms inference, 1.5ms postprocess per image at shape (1, 3, 640, 640)\n",
            "\n",
            "0: 384x640 1 dining table, 7.4ms\n",
            "Speed: 3.6ms preprocess, 7.4ms inference, 1.6ms postprocess per image at shape (1, 3, 640, 640)\n",
            "\n",
            "0: 384x640 1 person, 1 dining table, 7.2ms\n",
            "Speed: 2.7ms preprocess, 7.2ms inference, 1.7ms postprocess per image at shape (1, 3, 640, 640)\n",
            "\n",
            "0: 384x640 1 person, 1 dining table, 6.7ms\n",
            "Speed: 2.9ms preprocess, 6.7ms inference, 1.5ms postprocess per image at shape (1, 3, 640, 640)\n",
            "\n",
            "0: 384x640 1 person, 1 dining table, 6.4ms\n",
            "Speed: 3.3ms preprocess, 6.4ms inference, 1.4ms postprocess per image at shape (1, 3, 640, 640)\n",
            "\n",
            "0: 384x640 1 dining table, 6.5ms\n",
            "Speed: 3.3ms preprocess, 6.5ms inference, 1.6ms postprocess per image at shape (1, 3, 640, 640)\n",
            "\n",
            "0: 384x640 2 persons, 1 laptop, 7.0ms\n",
            "Speed: 2.8ms preprocess, 7.0ms inference, 1.5ms postprocess per image at shape (1, 3, 640, 640)\n",
            "\n",
            "0: 384x640 1 person, 1 dining table, 8.5ms\n",
            "Speed: 4.6ms preprocess, 8.5ms inference, 1.6ms postprocess per image at shape (1, 3, 640, 640)\n",
            "\n",
            "0: 384x640 1 person, 1 dining table, 6.6ms\n",
            "Speed: 2.8ms preprocess, 6.6ms inference, 1.4ms postprocess per image at shape (1, 3, 640, 640)\n",
            "\n",
            "0: 384x640 1 cup, 1 orange, 1 dining table, 6.6ms\n",
            "Speed: 2.6ms preprocess, 6.6ms inference, 1.4ms postprocess per image at shape (1, 3, 640, 640)\n",
            "\n",
            "0: 384x640 1 cup, 1 dining table, 6.4ms\n",
            "Speed: 3.6ms preprocess, 6.4ms inference, 3.2ms postprocess per image at shape (1, 3, 640, 640)\n",
            "\n",
            "0: 384x640 1 cup, 1 dining table, 8.1ms\n",
            "Speed: 2.7ms preprocess, 8.1ms inference, 1.6ms postprocess per image at shape (1, 3, 640, 640)\n",
            "\n",
            "0: 384x640 1 apple, 1 dining table, 1 laptop, 6.6ms\n",
            "Speed: 3.0ms preprocess, 6.6ms inference, 1.5ms postprocess per image at shape (1, 3, 640, 640)\n",
            "\n",
            "0: 384x640 1 apple, 1 dining table, 1 tv, 6.4ms\n",
            "Speed: 3.3ms preprocess, 6.4ms inference, 1.8ms postprocess per image at shape (1, 3, 640, 640)\n",
            "\n",
            "0: 384x640 1 apple, 1 dining table, 6.9ms\n",
            "Speed: 2.7ms preprocess, 6.9ms inference, 1.5ms postprocess per image at shape (1, 3, 640, 640)\n",
            "\n",
            "0: 384x640 1 person, 1 apple, 1 dining table, 6.6ms\n",
            "Speed: 3.7ms preprocess, 6.6ms inference, 1.5ms postprocess per image at shape (1, 3, 640, 640)\n",
            "\n",
            "0: 384x640 2 persons, 1 cup, 1 apple, 1 dining table, 6.5ms\n",
            "Speed: 3.8ms preprocess, 6.5ms inference, 2.0ms postprocess per image at shape (1, 3, 640, 640)\n",
            "\n",
            "0: 384x640 1 person, 1 apple, 1 dining table, 6.9ms\n",
            "Speed: 1.8ms preprocess, 6.9ms inference, 1.6ms postprocess per image at shape (1, 3, 640, 640)\n",
            "\n",
            "0: 384x640 1 person, 1 apple, 1 dining table, 7.7ms\n",
            "Speed: 2.3ms preprocess, 7.7ms inference, 1.4ms postprocess per image at shape (1, 3, 640, 640)\n",
            "\n",
            "0: 384x640 1 person, 1 cup, 1 apple, 1 dining table, 7.6ms\n",
            "Speed: 2.6ms preprocess, 7.6ms inference, 1.5ms postprocess per image at shape (1, 3, 640, 640)\n",
            "\n",
            "0: 384x640 1 person, 1 cup, 1 apple, 1 dining table, 8.2ms\n",
            "Speed: 1.9ms preprocess, 8.2ms inference, 1.6ms postprocess per image at shape (1, 3, 640, 640)\n"
          ]
        },
        {
          "output_type": "stream",
          "name": "stdout",
          "text": [
            "Object Centroid: (417, 98)\n",
            "Object Centroid: (412, 98)\n",
            "Object Centroid: (408, 99)\n",
            "Object Centroid: (404, 101)\n",
            "Object Centroid: (402, 101)\n",
            "Object Centroid: (400, 101)\n",
            "Object Centroid: (399, 100)\n",
            "Object Centroid: (400, 99)\n",
            "Object Centroid: (401, 98)\n"
          ]
        },
        {
          "output_type": "stream",
          "name": "stderr",
          "text": [
            "\n",
            "0: 384x640 1 person, 1 cup, 1 apple, 1 dining table, 7.0ms\n",
            "Speed: 2.4ms preprocess, 7.0ms inference, 1.5ms postprocess per image at shape (1, 3, 640, 640)\n",
            "\n",
            "0: 384x640 1 person, 1 cup, 1 apple, 1 dining table, 7.6ms\n",
            "Speed: 2.3ms preprocess, 7.6ms inference, 1.5ms postprocess per image at shape (1, 3, 640, 640)\n",
            "\n",
            "0: 384x640 1 person, 1 cup, 1 apple, 1 dining table, 6.4ms\n",
            "Speed: 1.8ms preprocess, 6.4ms inference, 1.5ms postprocess per image at shape (1, 3, 640, 640)\n",
            "\n",
            "0: 384x640 1 person, 1 cup, 1 apple, 1 dining table, 16.4ms\n",
            "Speed: 4.9ms preprocess, 16.4ms inference, 2.2ms postprocess per image at shape (1, 3, 640, 640)\n",
            "\n",
            "0: 384x640 1 person, 1 cup, 1 apple, 1 dining table, 12.7ms\n",
            "Speed: 3.8ms preprocess, 12.7ms inference, 3.0ms postprocess per image at shape (1, 3, 640, 640)\n",
            "\n",
            "0: 384x640 1 person, 1 cup, 1 apple, 1 dining table, 6.8ms\n",
            "Speed: 3.7ms preprocess, 6.8ms inference, 1.4ms postprocess per image at shape (1, 3, 640, 640)\n",
            "\n",
            "0: 384x640 1 person, 1 cup, 1 apple, 1 dining table, 6.8ms\n",
            "Speed: 3.1ms preprocess, 6.8ms inference, 1.5ms postprocess per image at shape (1, 3, 640, 640)\n",
            "\n",
            "0: 384x640 1 person, 1 cup, 1 apple, 1 dining table, 6.5ms\n",
            "Speed: 3.3ms preprocess, 6.5ms inference, 1.6ms postprocess per image at shape (1, 3, 640, 640)\n",
            "\n"
          ]
        },
        {
          "output_type": "stream",
          "name": "stdout",
          "text": [
            "Object Centroid: (402, 99)\n",
            "Object Centroid: (404, 99)\n",
            "Object Centroid: (406, 100)\n",
            "Object Centroid: (409, 101)\n",
            "Object Centroid: (412, 102)\n",
            "Object Centroid: (416, 104)\n",
            "Object Centroid: (421, 107)\n",
            "Object Centroid: (424, 110)\n"
          ]
        },
        {
          "output_type": "stream",
          "name": "stderr",
          "text": [
            "0: 384x640 1 person, 1 apple, 1 dining table, 8.8ms\n",
            "Speed: 2.5ms preprocess, 8.8ms inference, 1.4ms postprocess per image at shape (1, 3, 640, 640)\n",
            "\n",
            "0: 384x640 1 person, 1 cup, 1 apple, 8.5ms\n",
            "Speed: 2.0ms preprocess, 8.5ms inference, 1.4ms postprocess per image at shape (1, 3, 640, 640)\n",
            "\n",
            "0: 384x640 1 person, 1 cup, 1 apple, 8.2ms\n",
            "Speed: 2.0ms preprocess, 8.2ms inference, 1.5ms postprocess per image at shape (1, 3, 640, 640)\n",
            "\n",
            "0: 384x640 1 person, 1 cup, 1 apple, 8.6ms\n",
            "Speed: 2.0ms preprocess, 8.6ms inference, 1.6ms postprocess per image at shape (1, 3, 640, 640)\n",
            "\n",
            "0: 384x640 1 person, 1 cup, 1 apple, 7.5ms\n",
            "Speed: 3.1ms preprocess, 7.5ms inference, 1.5ms postprocess per image at shape (1, 3, 640, 640)\n",
            "\n",
            "0: 384x640 1 person, 1 cup, 1 apple, 6.4ms\n",
            "Speed: 3.4ms preprocess, 6.4ms inference, 1.5ms postprocess per image at shape (1, 3, 640, 640)\n",
            "\n",
            "0: 384x640 2 persons, 1 cup, 1 apple, 1 dining table, 8.5ms\n",
            "Speed: 2.1ms preprocess, 8.5ms inference, 1.7ms postprocess per image at shape (1, 3, 640, 640)\n",
            "\n",
            "0: 384x640 1 person, 1 cup, 1 apple, 1 dining table, 12.4ms\n",
            "Speed: 2.6ms preprocess, 12.4ms inference, 2.2ms postprocess per image at shape (1, 3, 640, 640)\n",
            "\n",
            "0: 384x640 1 person, 1 cup, 1 apple, 9.7ms\n"
          ]
        },
        {
          "output_type": "stream",
          "name": "stdout",
          "text": [
            "Object Centroid: (429, 116)\n",
            "Object Centroid: (435, 125)\n",
            "Object Centroid: (440, 132)\n",
            "Object Centroid: (445, 142)\n",
            "Object Centroid: (451, 153)\n",
            "Object Centroid: (458, 164)\n",
            "Object Centroid: (466, 176)\n",
            "Object Centroid: (474, 189)\n"
          ]
        },
        {
          "output_type": "stream",
          "name": "stderr",
          "text": [
            "Speed: 2.7ms preprocess, 9.7ms inference, 1.9ms postprocess per image at shape (1, 3, 640, 640)\n",
            "\n",
            "0: 384x640 1 person, 1 cup, 1 apple, 12.4ms\n",
            "Speed: 2.4ms preprocess, 12.4ms inference, 2.2ms postprocess per image at shape (1, 3, 640, 640)\n",
            "\n",
            "0: 384x640 1 person, 1 cup, 1 apple, 9.7ms\n",
            "Speed: 2.1ms preprocess, 9.7ms inference, 2.1ms postprocess per image at shape (1, 3, 640, 640)\n",
            "\n",
            "0: 384x640 1 person, 1 cup, 1 apple, 11.8ms\n",
            "Speed: 2.9ms preprocess, 11.8ms inference, 3.0ms postprocess per image at shape (1, 3, 640, 640)\n",
            "\n",
            "0: 384x640 1 person, 1 cup, 1 apple, 10.3ms\n",
            "Speed: 2.7ms preprocess, 10.3ms inference, 2.2ms postprocess per image at shape (1, 3, 640, 640)\n",
            "\n",
            "0: 384x640 1 person, 1 cup, 1 apple, 11.9ms\n",
            "Speed: 2.4ms preprocess, 11.9ms inference, 2.2ms postprocess per image at shape (1, 3, 640, 640)\n",
            "\n",
            "0: 384x640 1 person, 1 cup, 1 apple, 11.4ms\n",
            "Speed: 2.4ms preprocess, 11.4ms inference, 3.5ms postprocess per image at shape (1, 3, 640, 640)\n",
            "\n"
          ]
        },
        {
          "output_type": "stream",
          "name": "stdout",
          "text": [
            "Object Centroid: (483, 203)\n",
            "Object Centroid: (490, 214)\n",
            "Object Centroid: (498, 225)\n",
            "Object Centroid: (504, 234)\n",
            "Object Centroid: (508, 242)\n",
            "Object Centroid: (512, 250)\n",
            "Object Centroid: (519, 256)\n"
          ]
        },
        {
          "output_type": "stream",
          "name": "stderr",
          "text": [
            "0: 384x640 1 person, 1 cup, 1 apple, 11.2ms\n",
            "Speed: 3.5ms preprocess, 11.2ms inference, 2.2ms postprocess per image at shape (1, 3, 640, 640)\n",
            "\n",
            "0: 384x640 1 person, 1 cup, 1 apple, 11.1ms\n",
            "Speed: 2.4ms preprocess, 11.1ms inference, 2.3ms postprocess per image at shape (1, 3, 640, 640)\n",
            "\n",
            "0: 384x640 1 person, 1 cup, 1 apple, 9.7ms\n",
            "Speed: 2.6ms preprocess, 9.7ms inference, 2.1ms postprocess per image at shape (1, 3, 640, 640)\n",
            "\n",
            "0: 384x640 1 person, 1 cup, 1 apple, 9.3ms\n",
            "Speed: 2.5ms preprocess, 9.3ms inference, 2.0ms postprocess per image at shape (1, 3, 640, 640)\n",
            "\n",
            "0: 384x640 1 person, 1 cup, 1 apple, 9.0ms\n",
            "Speed: 2.6ms preprocess, 9.0ms inference, 2.0ms postprocess per image at shape (1, 3, 640, 640)\n",
            "\n",
            "0: 384x640 1 person, 1 cup, 1 apple, 9.5ms\n",
            "Speed: 2.5ms preprocess, 9.5ms inference, 2.0ms postprocess per image at shape (1, 3, 640, 640)\n",
            "\n",
            "0: 384x640 1 person, 1 cup, 1 apple, 8.3ms\n",
            "Speed: 2.3ms preprocess, 8.3ms inference, 2.1ms postprocess per image at shape (1, 3, 640, 640)\n",
            "\n",
            "0: 384x640 1 person, 1 cup, 1 apple, 8.8ms\n",
            "Speed: 2.6ms preprocess, 8.8ms inference, 1.9ms postprocess per image at shape (1, 3, 640, 640)\n"
          ]
        },
        {
          "output_type": "stream",
          "name": "stdout",
          "text": [
            "Object Centroid: (522, 260)\n",
            "Object Centroid: (525, 263)\n",
            "Object Centroid: (525, 266)\n",
            "Object Centroid: (525, 268)\n",
            "Object Centroid: (526, 270)\n",
            "Object Centroid: (526, 270)\n",
            "Object Centroid: (526, 270)\n",
            "Object Centroid: (526, 268)\n"
          ]
        },
        {
          "output_type": "stream",
          "name": "stderr",
          "text": [
            "\n",
            "0: 384x640 1 person, 1 cup, 1 apple, 9.3ms\n",
            "Speed: 2.3ms preprocess, 9.3ms inference, 2.0ms postprocess per image at shape (1, 3, 640, 640)\n",
            "\n",
            "0: 384x640 1 person, 1 cup, 1 apple, 8.3ms\n",
            "Speed: 2.3ms preprocess, 8.3ms inference, 2.0ms postprocess per image at shape (1, 3, 640, 640)\n",
            "\n",
            "0: 384x640 1 person, 1 cup, 1 apple, 8.5ms\n",
            "Speed: 2.3ms preprocess, 8.5ms inference, 1.8ms postprocess per image at shape (1, 3, 640, 640)\n",
            "\n",
            "0: 384x640 1 person, 1 cup, 1 apple, 8.5ms\n",
            "Speed: 2.3ms preprocess, 8.5ms inference, 1.8ms postprocess per image at shape (1, 3, 640, 640)\n",
            "\n",
            "0: 384x640 1 person, 1 cup, 1 apple, 9.6ms\n",
            "Speed: 2.3ms preprocess, 9.6ms inference, 1.8ms postprocess per image at shape (1, 3, 640, 640)\n",
            "\n",
            "0: 384x640 1 person, 1 cup, 1 apple, 9.3ms\n",
            "Speed: 2.5ms preprocess, 9.3ms inference, 2.0ms postprocess per image at shape (1, 3, 640, 640)\n",
            "\n",
            "0: 384x640 1 person, 1 cup, 1 apple, 8.7ms\n",
            "Speed: 2.4ms preprocess, 8.7ms inference, 1.9ms postprocess per image at shape (1, 3, 640, 640)\n",
            "\n",
            "0: 384x640 1 cup, 1 apple, 9.9ms\n",
            "Speed: 2.4ms preprocess, 9.9ms inference, 1.8ms postprocess per image at shape (1, 3, 640, 640)\n",
            "\n"
          ]
        },
        {
          "output_type": "stream",
          "name": "stdout",
          "text": [
            "Object Centroid: (528, 267)\n",
            "Object Centroid: (528, 265)\n",
            "Object Centroid: (529, 264)\n",
            "Object Centroid: (529, 262)\n",
            "Object Centroid: (530, 260)\n",
            "Object Centroid: (528, 257)\n",
            "Object Centroid: (525, 252)\n",
            "Object Centroid: (524, 250)\n"
          ]
        },
        {
          "output_type": "stream",
          "name": "stderr",
          "text": [
            "0: 384x640 1 cup, 1 apple, 10.7ms\n",
            "Speed: 2.3ms preprocess, 10.7ms inference, 2.1ms postprocess per image at shape (1, 3, 640, 640)\n",
            "\n",
            "0: 384x640 1 person, 1 cup, 1 apple, 8.7ms\n",
            "Speed: 2.5ms preprocess, 8.7ms inference, 2.0ms postprocess per image at shape (1, 3, 640, 640)\n",
            "\n",
            "0: 384x640 1 person, 1 cup, 1 apple, 8.4ms\n",
            "Speed: 2.4ms preprocess, 8.4ms inference, 1.9ms postprocess per image at shape (1, 3, 640, 640)\n",
            "\n",
            "0: 384x640 1 person, 1 cup, 1 apple, 8.5ms\n",
            "Speed: 2.5ms preprocess, 8.5ms inference, 2.0ms postprocess per image at shape (1, 3, 640, 640)\n",
            "\n",
            "0: 384x640 1 person, 1 cup, 1 apple, 8.5ms\n",
            "Speed: 2.4ms preprocess, 8.5ms inference, 2.1ms postprocess per image at shape (1, 3, 640, 640)\n",
            "\n",
            "0: 384x640 1 person, 1 cup, 1 apple, 9.7ms\n",
            "Speed: 2.3ms preprocess, 9.7ms inference, 2.2ms postprocess per image at shape (1, 3, 640, 640)\n",
            "\n",
            "0: 384x640 1 person, 1 cup, 1 apple, 8.8ms\n",
            "Speed: 2.4ms preprocess, 8.8ms inference, 1.9ms postprocess per image at shape (1, 3, 640, 640)\n",
            "\n",
            "0: 384x640 1 person, 1 cup, 1 apple, 9.3ms\n",
            "Speed: 2.5ms preprocess, 9.3ms inference, 2.0ms postprocess per image at shape (1, 3, 640, 640)\n",
            "\n"
          ]
        },
        {
          "output_type": "stream",
          "name": "stdout",
          "text": [
            "Object Centroid: (523, 249)\n",
            "Object Centroid: (521, 248)\n",
            "Object Centroid: (517, 247)\n",
            "Object Centroid: (513, 246)\n",
            "Object Centroid: (507, 243)\n",
            "Object Centroid: (501, 240)\n",
            "Object Centroid: (497, 237)\n",
            "Object Centroid: (493, 235)\n"
          ]
        },
        {
          "output_type": "stream",
          "name": "stderr",
          "text": [
            "0: 384x640 1 person, 1 cup, 1 apple, 10.7ms\n",
            "Speed: 2.3ms preprocess, 10.7ms inference, 2.1ms postprocess per image at shape (1, 3, 640, 640)\n",
            "\n",
            "0: 384x640 1 person, 1 cup, 1 apple, 9.1ms\n",
            "Speed: 2.5ms preprocess, 9.1ms inference, 2.2ms postprocess per image at shape (1, 3, 640, 640)\n",
            "\n",
            "0: 384x640 1 person, 1 cup, 1 apple, 8.1ms\n",
            "Speed: 2.4ms preprocess, 8.1ms inference, 2.0ms postprocess per image at shape (1, 3, 640, 640)\n",
            "\n",
            "0: 384x640 1 person, 1 cup, 1 apple, 9.9ms\n",
            "Speed: 2.4ms preprocess, 9.9ms inference, 2.0ms postprocess per image at shape (1, 3, 640, 640)\n",
            "\n",
            "0: 384x640 1 person, 1 cup, 1 apple, 13.3ms\n",
            "Speed: 2.5ms preprocess, 13.3ms inference, 2.3ms postprocess per image at shape (1, 3, 640, 640)\n",
            "\n",
            "0: 384x640 1 person, 1 cup, 1 apple, 15.3ms\n",
            "Speed: 2.9ms preprocess, 15.3ms inference, 1.8ms postprocess per image at shape (1, 3, 640, 640)\n",
            "\n",
            "0: 384x640 1 person, 1 cup, 1 apple, 8.1ms\n",
            "Speed: 2.3ms preprocess, 8.1ms inference, 2.0ms postprocess per image at shape (1, 3, 640, 640)\n",
            "\n",
            "0: 384x640 1 person, 1 cup, 1 apple, 9.3ms\n"
          ]
        },
        {
          "output_type": "stream",
          "name": "stdout",
          "text": [
            "Object Centroid: (489, 234)\n",
            "Object Centroid: (487, 233)\n",
            "Object Centroid: (485, 232)\n",
            "Object Centroid: (483, 231)\n",
            "Object Centroid: (480, 231)\n",
            "Object Centroid: (478, 231)\n",
            "Object Centroid: (476, 230)\n"
          ]
        },
        {
          "output_type": "stream",
          "name": "stderr",
          "text": [
            "Speed: 2.4ms preprocess, 9.3ms inference, 1.9ms postprocess per image at shape (1, 3, 640, 640)\n",
            "\n",
            "0: 384x640 1 person, 1 cup, 1 apple, 10.1ms\n",
            "Speed: 2.6ms preprocess, 10.1ms inference, 2.5ms postprocess per image at shape (1, 3, 640, 640)\n",
            "\n",
            "0: 384x640 1 person, 1 cup, 1 apple, 9.6ms\n",
            "Speed: 2.5ms preprocess, 9.6ms inference, 2.3ms postprocess per image at shape (1, 3, 640, 640)\n",
            "\n",
            "0: 384x640 1 person, 1 cup, 1 apple, 10.1ms\n",
            "Speed: 2.5ms preprocess, 10.1ms inference, 2.6ms postprocess per image at shape (1, 3, 640, 640)\n",
            "\n",
            "0: 384x640 2 persons, 1 cup, 1 apple, 10.1ms\n",
            "Speed: 2.4ms preprocess, 10.1ms inference, 2.0ms postprocess per image at shape (1, 3, 640, 640)\n",
            "\n",
            "0: 384x640 2 persons, 1 cup, 1 apple, 9.6ms\n",
            "Speed: 2.3ms preprocess, 9.6ms inference, 2.2ms postprocess per image at shape (1, 3, 640, 640)\n",
            "\n",
            "0: 384x640 1 person, 1 cup, 1 apple, 10.5ms\n",
            "Speed: 2.6ms preprocess, 10.5ms inference, 2.2ms postprocess per image at shape (1, 3, 640, 640)\n",
            "\n",
            "0: 384x640 1 person, 1 cup, 1 apple, 10.1ms\n",
            "Speed: 2.3ms preprocess, 10.1ms inference, 2.1ms postprocess per image at shape (1, 3, 640, 640)\n"
          ]
        },
        {
          "output_type": "stream",
          "name": "stdout",
          "text": [
            "Object Centroid: (475, 230)\n",
            "Object Centroid: (473, 230)\n",
            "Object Centroid: (471, 230)\n",
            "Object Centroid: (470, 229)\n",
            "Object Centroid: (469, 230)\n",
            "Object Centroid: (468, 230)\n",
            "Object Centroid: (467, 229)\n",
            "Object Centroid: (466, 229)\n"
          ]
        },
        {
          "output_type": "stream",
          "name": "stderr",
          "text": [
            "\n",
            "0: 384x640 1 person, 1 cup, 1 apple, 8.6ms\n",
            "Speed: 2.5ms preprocess, 8.6ms inference, 2.2ms postprocess per image at shape (1, 3, 640, 640)\n",
            "\n",
            "0: 384x640 1 person, 1 cup, 1 apple, 8.5ms\n",
            "Speed: 2.5ms preprocess, 8.5ms inference, 2.4ms postprocess per image at shape (1, 3, 640, 640)\n",
            "\n",
            "0: 384x640 1 person, 1 cup, 1 apple, 9.1ms\n",
            "Speed: 2.5ms preprocess, 9.1ms inference, 2.0ms postprocess per image at shape (1, 3, 640, 640)\n",
            "\n",
            "0: 384x640 1 person, 1 cup, 1 apple, 8.4ms\n",
            "Speed: 2.5ms preprocess, 8.4ms inference, 1.9ms postprocess per image at shape (1, 3, 640, 640)\n",
            "\n",
            "0: 384x640 1 person, 1 cup, 1 apple, 10.9ms\n",
            "Speed: 2.4ms preprocess, 10.9ms inference, 1.7ms postprocess per image at shape (1, 3, 640, 640)\n",
            "\n",
            "0: 384x640 1 person, 1 cup, 1 apple, 8.4ms\n",
            "Speed: 2.6ms preprocess, 8.4ms inference, 1.9ms postprocess per image at shape (1, 3, 640, 640)\n",
            "\n",
            "0: 384x640 1 person, 1 cup, 1 apple, 8.9ms\n",
            "Speed: 2.5ms preprocess, 8.9ms inference, 2.0ms postprocess per image at shape (1, 3, 640, 640)\n",
            "\n",
            "0: 384x640 1 person, 1 cup, 1 apple, 9.1ms\n",
            "Speed: 2.6ms preprocess, 9.1ms inference, 2.0ms postprocess per image at shape (1, 3, 640, 640)\n"
          ]
        },
        {
          "output_type": "stream",
          "name": "stdout",
          "text": [
            "Object Centroid: (466, 230)\n",
            "Object Centroid: (462, 230)\n",
            "Object Centroid: (460, 231)\n",
            "Object Centroid: (459, 230)\n",
            "Object Centroid: (458, 231)\n",
            "Object Centroid: (456, 231)\n",
            "Object Centroid: (454, 232)\n",
            "Object Centroid: (452, 233)\n"
          ]
        },
        {
          "output_type": "stream",
          "name": "stderr",
          "text": [
            "\n",
            "0: 384x640 1 person, 1 cup, 1 apple, 8.8ms\n",
            "Speed: 2.5ms preprocess, 8.8ms inference, 2.3ms postprocess per image at shape (1, 3, 640, 640)\n",
            "\n",
            "0: 384x640 1 person, 1 cup, 1 apple, 8.8ms\n",
            "Speed: 2.5ms preprocess, 8.8ms inference, 1.9ms postprocess per image at shape (1, 3, 640, 640)\n",
            "\n",
            "0: 384x640 1 person, 1 cup, 1 apple, 8.7ms\n",
            "Speed: 2.4ms preprocess, 8.7ms inference, 2.6ms postprocess per image at shape (1, 3, 640, 640)\n",
            "\n",
            "0: 384x640 1 person, 1 cup, 1 apple, 9.0ms\n",
            "Speed: 2.6ms preprocess, 9.0ms inference, 2.1ms postprocess per image at shape (1, 3, 640, 640)\n",
            "\n",
            "0: 384x640 1 person, 1 cup, 1 apple, 9.4ms\n",
            "Speed: 2.5ms preprocess, 9.4ms inference, 1.9ms postprocess per image at shape (1, 3, 640, 640)\n",
            "\n",
            "0: 384x640 1 person, 1 cup, 1 apple, 8.7ms\n",
            "Speed: 2.4ms preprocess, 8.7ms inference, 1.9ms postprocess per image at shape (1, 3, 640, 640)\n",
            "\n",
            "0: 384x640 1 person, 1 cup, 1 apple, 9.0ms\n",
            "Speed: 2.5ms preprocess, 9.0ms inference, 2.0ms postprocess per image at shape (1, 3, 640, 640)\n",
            "\n",
            "0: 384x640 1 person, 1 cup, 1 apple, 8.4ms\n",
            "Speed: 2.3ms preprocess, 8.4ms inference, 1.8ms postprocess per image at shape (1, 3, 640, 640)\n",
            "\n"
          ]
        },
        {
          "output_type": "stream",
          "name": "stdout",
          "text": [
            "Object Centroid: (451, 234)\n",
            "Object Centroid: (450, 233)\n",
            "Object Centroid: (449, 233)\n",
            "Object Centroid: (449, 233)\n",
            "Object Centroid: (448, 233)\n",
            "Object Centroid: (447, 232)\n",
            "Object Centroid: (447, 230)\n",
            "Object Centroid: (446, 229)\n"
          ]
        },
        {
          "output_type": "stream",
          "name": "stderr",
          "text": [
            "0: 384x640 1 person, 1 cup, 1 apple, 10.7ms\n",
            "Speed: 2.6ms preprocess, 10.7ms inference, 2.2ms postprocess per image at shape (1, 3, 640, 640)\n",
            "\n",
            "0: 384x640 1 person, 1 cup, 1 apple, 9.2ms\n",
            "Speed: 2.4ms preprocess, 9.2ms inference, 2.1ms postprocess per image at shape (1, 3, 640, 640)\n",
            "\n",
            "0: 384x640 1 person, 1 cup, 1 apple, 11.4ms\n",
            "Speed: 2.5ms preprocess, 11.4ms inference, 2.2ms postprocess per image at shape (1, 3, 640, 640)\n",
            "\n",
            "0: 384x640 1 person, 1 cup, 1 apple, 10.5ms\n",
            "Speed: 2.6ms preprocess, 10.5ms inference, 2.1ms postprocess per image at shape (1, 3, 640, 640)\n",
            "\n",
            "0: 384x640 1 person, 1 cup, 1 apple, 10.1ms\n",
            "Speed: 2.6ms preprocess, 10.1ms inference, 2.1ms postprocess per image at shape (1, 3, 640, 640)\n",
            "\n",
            "0: 384x640 1 person, 1 cup, 1 apple, 9.1ms\n",
            "Speed: 2.6ms preprocess, 9.1ms inference, 2.0ms postprocess per image at shape (1, 3, 640, 640)\n",
            "\n",
            "0: 384x640 1 person, 1 cup, 1 apple, 9.3ms\n",
            "Speed: 2.5ms preprocess, 9.3ms inference, 2.0ms postprocess per image at shape (1, 3, 640, 640)\n",
            "\n",
            "0: 384x640 1 person, 1 cup, 1 apple, 8.7ms\n"
          ]
        },
        {
          "output_type": "stream",
          "name": "stdout",
          "text": [
            "Object Centroid: (445, 227)\n",
            "Object Centroid: (443, 223)\n",
            "Object Centroid: (441, 222)\n",
            "Object Centroid: (438, 221)\n",
            "Object Centroid: (438, 221)\n",
            "Object Centroid: (435, 221)\n",
            "Object Centroid: (433, 222)\n"
          ]
        },
        {
          "output_type": "stream",
          "name": "stderr",
          "text": [
            "Speed: 2.5ms preprocess, 8.7ms inference, 2.1ms postprocess per image at shape (1, 3, 640, 640)\n",
            "\n",
            "0: 384x640 1 person, 1 cup, 1 apple, 8.7ms\n",
            "Speed: 2.5ms preprocess, 8.7ms inference, 2.3ms postprocess per image at shape (1, 3, 640, 640)\n",
            "\n",
            "0: 384x640 1 person, 1 cup, 1 apple, 1 dining table, 9.1ms\n",
            "Speed: 2.5ms preprocess, 9.1ms inference, 2.6ms postprocess per image at shape (1, 3, 640, 640)\n",
            "\n",
            "0: 384x640 1 person, 1 cup, 1 apple, 1 dining table, 14.8ms\n",
            "Speed: 2.7ms preprocess, 14.8ms inference, 2.2ms postprocess per image at shape (1, 3, 640, 640)\n",
            "\n",
            "0: 384x640 1 person, 1 cup, 1 apple, 1 dining table, 13.6ms\n",
            "Speed: 3.0ms preprocess, 13.6ms inference, 2.5ms postprocess per image at shape (1, 3, 640, 640)\n",
            "\n",
            "0: 384x640 1 person, 1 cup, 1 apple, 1 dining table, 10.3ms\n",
            "Speed: 2.8ms preprocess, 10.3ms inference, 2.3ms postprocess per image at shape (1, 3, 640, 640)\n",
            "\n",
            "0: 384x640 1 person, 1 cup, 1 apple, 1 dining table, 11.9ms\n",
            "Speed: 2.8ms preprocess, 11.9ms inference, 2.7ms postprocess per image at shape (1, 3, 640, 640)\n"
          ]
        },
        {
          "output_type": "stream",
          "name": "stdout",
          "text": [
            "Object Centroid: (432, 223)\n",
            "Object Centroid: (431, 223)\n",
            "Object Centroid: (431, 223)\n",
            "Object Centroid: (430, 224)\n",
            "Object Centroid: (430, 224)\n",
            "Object Centroid: (430, 224)\n",
            "Object Centroid: (430, 224)\n"
          ]
        },
        {
          "output_type": "stream",
          "name": "stderr",
          "text": [
            "\n",
            "0: 384x640 2 persons, 1 cup, 1 apple, 11.3ms\n",
            "Speed: 3.7ms preprocess, 11.3ms inference, 2.2ms postprocess per image at shape (1, 3, 640, 640)\n",
            "\n",
            "0: 384x640 1 person, 1 cup, 1 apple, 10.6ms\n",
            "Speed: 2.8ms preprocess, 10.6ms inference, 2.4ms postprocess per image at shape (1, 3, 640, 640)\n",
            "\n",
            "0: 384x640 1 person, 1 cup, 1 apple, 10.9ms\n",
            "Speed: 2.9ms preprocess, 10.9ms inference, 2.4ms postprocess per image at shape (1, 3, 640, 640)\n",
            "\n",
            "0: 384x640 2 persons, 1 cup, 1 apple, 13.7ms\n",
            "Speed: 2.8ms preprocess, 13.7ms inference, 2.5ms postprocess per image at shape (1, 3, 640, 640)\n",
            "\n",
            "0: 384x640 2 persons, 1 cup, 1 apple, 11.7ms\n",
            "Speed: 3.0ms preprocess, 11.7ms inference, 8.9ms postprocess per image at shape (1, 3, 640, 640)\n",
            "\n",
            "0: 384x640 2 persons, 1 cup, 1 apple, 15.5ms\n",
            "Speed: 2.8ms preprocess, 15.5ms inference, 5.7ms postprocess per image at shape (1, 3, 640, 640)\n",
            "\n"
          ]
        },
        {
          "output_type": "stream",
          "name": "stdout",
          "text": [
            "Object Centroid: (429, 224)\n",
            "Object Centroid: (429, 225)\n",
            "Object Centroid: (430, 224)\n",
            "Object Centroid: (430, 224)\n",
            "Object Centroid: (429, 224)\n",
            "Object Centroid: (429, 223)\n"
          ]
        },
        {
          "output_type": "stream",
          "name": "stderr",
          "text": [
            "0: 384x640 1 person, 1 cup, 1 apple, 12.7ms\n",
            "Speed: 2.7ms preprocess, 12.7ms inference, 2.2ms postprocess per image at shape (1, 3, 640, 640)\n",
            "\n",
            "0: 384x640 1 person, 1 cup, 1 apple, 12.7ms\n",
            "Speed: 2.6ms preprocess, 12.7ms inference, 2.4ms postprocess per image at shape (1, 3, 640, 640)\n",
            "\n",
            "0: 384x640 1 person, 1 cup, 1 apple, 1 dining table, 14.0ms\n",
            "Speed: 2.7ms preprocess, 14.0ms inference, 2.2ms postprocess per image at shape (1, 3, 640, 640)\n",
            "\n",
            "0: 384x640 1 person, 1 cup, 1 apple, 1 dining table, 10.4ms\n",
            "Speed: 2.7ms preprocess, 10.4ms inference, 2.4ms postprocess per image at shape (1, 3, 640, 640)\n",
            "\n",
            "0: 384x640 2 persons, 1 cup, 1 apple, 1 dining table, 11.8ms\n",
            "Speed: 2.8ms preprocess, 11.8ms inference, 2.1ms postprocess per image at shape (1, 3, 640, 640)\n",
            "\n",
            "0: 384x640 2 persons, 1 cup, 1 apple, 1 dining table, 10.6ms\n",
            "Speed: 2.6ms preprocess, 10.6ms inference, 4.1ms postprocess per image at shape (1, 3, 640, 640)\n",
            "\n"
          ]
        },
        {
          "output_type": "stream",
          "name": "stdout",
          "text": [
            "Object Centroid: (429, 222)\n",
            "Object Centroid: (427, 220)\n",
            "Object Centroid: (426, 218)\n",
            "Object Centroid: (424, 216)\n",
            "Object Centroid: (423, 214)\n",
            "Object Centroid: (421, 212)\n"
          ]
        },
        {
          "output_type": "stream",
          "name": "stderr",
          "text": [
            "0: 384x640 2 persons, 1 cup, 1 apple, 1 dining table, 10.5ms\n",
            "Speed: 2.6ms preprocess, 10.5ms inference, 2.3ms postprocess per image at shape (1, 3, 640, 640)\n",
            "\n",
            "0: 384x640 1 person, 1 cup, 1 apple, 9.2ms\n",
            "Speed: 2.6ms preprocess, 9.2ms inference, 2.0ms postprocess per image at shape (1, 3, 640, 640)\n",
            "\n",
            "0: 384x640 2 persons, 1 cup, 1 apple, 9.1ms\n",
            "Speed: 2.6ms preprocess, 9.1ms inference, 2.0ms postprocess per image at shape (1, 3, 640, 640)\n",
            "\n",
            "0: 384x640 1 person, 1 cup, 1 apple, 10.0ms\n",
            "Speed: 2.4ms preprocess, 10.0ms inference, 1.9ms postprocess per image at shape (1, 3, 640, 640)\n",
            "\n",
            "0: 384x640 2 persons, 1 cup, 1 apple, 10.9ms\n",
            "Speed: 2.5ms preprocess, 10.9ms inference, 2.2ms postprocess per image at shape (1, 3, 640, 640)\n",
            "\n",
            "0: 384x640 2 persons, 1 cup, 1 apple, 9.1ms\n",
            "Speed: 2.5ms preprocess, 9.1ms inference, 1.9ms postprocess per image at shape (1, 3, 640, 640)\n",
            "\n",
            "0: 384x640 1 person, 1 apple, 9.2ms\n",
            "Speed: 2.6ms preprocess, 9.2ms inference, 2.1ms postprocess per image at shape (1, 3, 640, 640)\n",
            "\n",
            "0: 384x640 2 persons, 1 apple, 8.4ms\n",
            "Speed: 2.6ms preprocess, 8.4ms inference, 1.9ms postprocess per image at shape (1, 3, 640, 640)\n"
          ]
        },
        {
          "output_type": "stream",
          "name": "stdout",
          "text": [
            "Object Centroid: (420, 210)\n",
            "Object Centroid: (419, 208)\n",
            "Object Centroid: (417, 206)\n",
            "Object Centroid: (415, 204)\n",
            "Object Centroid: (412, 203)\n",
            "Object Centroid: (410, 204)\n",
            "Object Centroid: (407, 205)\n",
            "Object Centroid: (406, 207)\n"
          ]
        },
        {
          "output_type": "stream",
          "name": "stderr",
          "text": [
            "\n",
            "0: 384x640 2 persons, 1 apple, 11.0ms\n",
            "Speed: 2.5ms preprocess, 11.0ms inference, 3.5ms postprocess per image at shape (1, 3, 640, 640)\n",
            "\n",
            "0: 384x640 3 persons, 1 apple, 9.9ms\n",
            "Speed: 2.5ms preprocess, 9.9ms inference, 2.1ms postprocess per image at shape (1, 3, 640, 640)\n",
            "\n",
            "0: 384x640 2 persons, 1 apple, 9.2ms\n",
            "Speed: 2.5ms preprocess, 9.2ms inference, 1.9ms postprocess per image at shape (1, 3, 640, 640)\n",
            "\n",
            "0: 384x640 2 persons, 1 apple, 8.7ms\n",
            "Speed: 2.4ms preprocess, 8.7ms inference, 1.9ms postprocess per image at shape (1, 3, 640, 640)\n",
            "\n",
            "0: 384x640 1 person, 1 apple, 10.0ms\n",
            "Speed: 2.4ms preprocess, 10.0ms inference, 2.3ms postprocess per image at shape (1, 3, 640, 640)\n",
            "\n",
            "0: 384x640 1 person, 1 cup, 1 apple, 10.1ms\n",
            "Speed: 2.3ms preprocess, 10.1ms inference, 2.0ms postprocess per image at shape (1, 3, 640, 640)\n",
            "\n",
            "0: 384x640 3 persons, 1 cup, 1 apple, 9.7ms\n",
            "Speed: 2.4ms preprocess, 9.7ms inference, 1.9ms postprocess per image at shape (1, 3, 640, 640)\n",
            "\n",
            "0: 384x640 2 persons, 1 cup, 1 apple, 9.0ms\n",
            "Speed: 2.6ms preprocess, 9.0ms inference, 2.4ms postprocess per image at shape (1, 3, 640, 640)\n"
          ]
        },
        {
          "output_type": "stream",
          "name": "stdout",
          "text": [
            "Object Centroid: (401, 209)\n",
            "Object Centroid: (398, 211)\n",
            "Object Centroid: (395, 213)\n",
            "Object Centroid: (391, 215)\n",
            "Object Centroid: (389, 217)\n",
            "Object Centroid: (387, 218)\n",
            "Object Centroid: (385, 220)\n",
            "Object Centroid: (385, 221)\n"
          ]
        },
        {
          "output_type": "stream",
          "name": "stderr",
          "text": [
            "\n",
            "0: 384x640 2 persons, 1 cup, 1 apple, 9.6ms\n",
            "Speed: 2.4ms preprocess, 9.6ms inference, 2.3ms postprocess per image at shape (1, 3, 640, 640)\n",
            "\n",
            "0: 384x640 1 person, 1 cup, 1 apple, 1 dining table, 9.5ms\n",
            "Speed: 2.5ms preprocess, 9.5ms inference, 2.7ms postprocess per image at shape (1, 3, 640, 640)\n",
            "\n",
            "0: 384x640 1 person, 1 cup, 1 apple, 1 dining table, 18.2ms\n",
            "Speed: 2.4ms preprocess, 18.2ms inference, 2.2ms postprocess per image at shape (1, 3, 640, 640)\n",
            "\n",
            "0: 384x640 1 person, 1 cup, 1 apple, 1 dining table, 9.3ms\n",
            "Speed: 2.2ms preprocess, 9.3ms inference, 1.9ms postprocess per image at shape (1, 3, 640, 640)\n",
            "\n",
            "0: 384x640 1 person, 1 cup, 1 apple, 1 dining table, 10.3ms\n",
            "Speed: 2.4ms preprocess, 10.3ms inference, 2.1ms postprocess per image at shape (1, 3, 640, 640)\n",
            "\n",
            "0: 384x640 1 person, 1 cup, 1 apple, 1 dining table, 9.2ms\n",
            "Speed: 2.7ms preprocess, 9.2ms inference, 2.3ms postprocess per image at shape (1, 3, 640, 640)\n",
            "\n",
            "0: 384x640 1 person, 1 cup, 1 apple, 1 dining table, 9.5ms\n",
            "Speed: 2.5ms preprocess, 9.5ms inference, 2.1ms postprocess per image at shape (1, 3, 640, 640)\n",
            "\n"
          ]
        },
        {
          "output_type": "stream",
          "name": "stdout",
          "text": [
            "Object Centroid: (387, 223)\n",
            "Object Centroid: (388, 223)\n",
            "Object Centroid: (389, 223)\n",
            "Object Centroid: (391, 220)\n",
            "Object Centroid: (394, 218)\n",
            "Object Centroid: (397, 214)\n",
            "Object Centroid: (400, 210)\n"
          ]
        },
        {
          "output_type": "stream",
          "name": "stderr",
          "text": [
            "0: 384x640 1 person, 1 cup, 1 apple, 1 dining table, 11.7ms\n",
            "Speed: 2.3ms preprocess, 11.7ms inference, 2.4ms postprocess per image at shape (1, 3, 640, 640)\n",
            "\n",
            "0: 384x640 1 person, 1 cup, 1 apple, 1 dining table, 8.6ms\n",
            "Speed: 2.5ms preprocess, 8.6ms inference, 2.1ms postprocess per image at shape (1, 3, 640, 640)\n",
            "\n",
            "0: 384x640 1 person, 1 apple, 1 dining table, 9.1ms\n",
            "Speed: 2.5ms preprocess, 9.1ms inference, 2.0ms postprocess per image at shape (1, 3, 640, 640)\n",
            "\n",
            "0: 384x640 1 person, 1 cup, 1 apple, 1 dining table, 9.6ms\n",
            "Speed: 2.7ms preprocess, 9.6ms inference, 1.9ms postprocess per image at shape (1, 3, 640, 640)\n",
            "\n",
            "0: 384x640 1 person, 1 cup, 1 apple, 1 dining table, 8.4ms\n",
            "Speed: 2.4ms preprocess, 8.4ms inference, 1.9ms postprocess per image at shape (1, 3, 640, 640)\n",
            "\n",
            "0: 384x640 1 person, 1 cup, 1 apple, 1 dining table, 9.8ms\n",
            "Speed: 2.4ms preprocess, 9.8ms inference, 1.9ms postprocess per image at shape (1, 3, 640, 640)\n",
            "\n",
            "0: 384x640 2 persons, 1 cup, 1 apple, 1 dining table, 8.5ms\n",
            "Speed: 2.6ms preprocess, 8.5ms inference, 2.0ms postprocess per image at shape (1, 3, 640, 640)\n",
            "\n",
            "0: 384x640 2 persons, 1 cup, 1 apple, 1 dining table, 8.0ms\n",
            "Speed: 2.4ms preprocess, 8.0ms inference, 2.0ms postprocess per image at shape (1, 3, 640, 640)\n",
            "\n"
          ]
        },
        {
          "output_type": "stream",
          "name": "stdout",
          "text": [
            "Object Centroid: (402, 204)\n",
            "Object Centroid: (403, 199)\n",
            "Object Centroid: (405, 195)\n",
            "Object Centroid: (405, 190)\n",
            "Object Centroid: (404, 186)\n",
            "Object Centroid: (404, 182)\n",
            "Object Centroid: (405, 179)\n",
            "Object Centroid: (405, 176)\n"
          ]
        },
        {
          "output_type": "stream",
          "name": "stderr",
          "text": [
            "0: 384x640 2 persons, 1 cup, 1 apple, 1 dining table, 9.4ms\n",
            "Speed: 2.7ms preprocess, 9.4ms inference, 1.9ms postprocess per image at shape (1, 3, 640, 640)\n",
            "\n",
            "0: 384x640 2 persons, 1 cup, 1 apple, 1 dining table, 9.7ms\n",
            "Speed: 2.4ms preprocess, 9.7ms inference, 1.9ms postprocess per image at shape (1, 3, 640, 640)\n",
            "\n",
            "0: 384x640 2 persons, 1 cup, 1 apple, 1 dining table, 8.9ms\n",
            "Speed: 2.5ms preprocess, 8.9ms inference, 2.0ms postprocess per image at shape (1, 3, 640, 640)\n",
            "\n",
            "0: 384x640 2 persons, 1 cup, 1 apple, 1 dining table, 7.7ms\n",
            "Speed: 2.6ms preprocess, 7.7ms inference, 2.6ms postprocess per image at shape (1, 3, 640, 640)\n",
            "\n",
            "0: 384x640 2 persons, 1 apple, 1 dining table, 8.8ms\n",
            "Speed: 2.8ms preprocess, 8.8ms inference, 2.0ms postprocess per image at shape (1, 3, 640, 640)\n",
            "\n",
            "0: 384x640 1 person, 1 apple, 1 dining table, 9.5ms\n",
            "Speed: 2.4ms preprocess, 9.5ms inference, 2.1ms postprocess per image at shape (1, 3, 640, 640)\n",
            "\n",
            "0: 384x640 1 person, 1 cup, 1 apple, 1 dining table, 8.6ms\n",
            "Speed: 2.5ms preprocess, 8.6ms inference, 2.0ms postprocess per image at shape (1, 3, 640, 640)\n",
            "\n",
            "0: 384x640 2 persons, 1 cup, 1 apple, 1 dining table, 9.1ms\n",
            "Speed: 2.5ms preprocess, 9.1ms inference, 2.0ms postprocess per image at shape (1, 3, 640, 640)\n",
            "\n"
          ]
        },
        {
          "output_type": "stream",
          "name": "stdout",
          "text": [
            "Object Centroid: (404, 175)\n",
            "Object Centroid: (404, 173)\n",
            "Object Centroid: (404, 172)\n",
            "Object Centroid: (404, 172)\n",
            "Object Centroid: (404, 172)\n",
            "Object Centroid: (405, 173)\n",
            "Object Centroid: (405, 174)\n",
            "Object Centroid: (405, 174)\n"
          ]
        },
        {
          "output_type": "stream",
          "name": "stderr",
          "text": [
            "0: 384x640 2 persons, 1 apple, 1 dining table, 10.5ms\n",
            "Speed: 2.5ms preprocess, 10.5ms inference, 1.9ms postprocess per image at shape (1, 3, 640, 640)\n",
            "\n",
            "0: 384x640 1 person, 1 cup, 1 apple, 1 dining table, 9.5ms\n",
            "Speed: 2.5ms preprocess, 9.5ms inference, 1.8ms postprocess per image at shape (1, 3, 640, 640)\n",
            "\n",
            "0: 384x640 1 person, 1 cup, 1 apple, 1 dining table, 8.4ms\n",
            "Speed: 2.2ms preprocess, 8.4ms inference, 1.8ms postprocess per image at shape (1, 3, 640, 640)\n",
            "\n",
            "0: 384x640 1 person, 1 cup, 1 apple, 1 dining table, 9.1ms\n",
            "Speed: 2.4ms preprocess, 9.1ms inference, 2.1ms postprocess per image at shape (1, 3, 640, 640)\n",
            "\n",
            "0: 384x640 1 person, 1 cup, 1 apple, 1 dining table, 8.0ms\n",
            "Speed: 2.3ms preprocess, 8.0ms inference, 2.2ms postprocess per image at shape (1, 3, 640, 640)\n",
            "\n",
            "0: 384x640 1 person, 1 cup, 1 apple, 1 dining table, 8.6ms\n",
            "Speed: 2.4ms preprocess, 8.6ms inference, 2.2ms postprocess per image at shape (1, 3, 640, 640)\n",
            "\n",
            "0: 384x640 1 person, 1 cup, 1 apple, 1 dining table, 8.8ms\n",
            "Speed: 2.4ms preprocess, 8.8ms inference, 2.0ms postprocess per image at shape (1, 3, 640, 640)\n",
            "\n",
            "0: 384x640 1 person, 1 cup, 1 apple, 1 dining table, 8.7ms\n",
            "Speed: 2.3ms preprocess, 8.7ms inference, 1.8ms postprocess per image at shape (1, 3, 640, 640)\n",
            "\n"
          ]
        },
        {
          "output_type": "stream",
          "name": "stdout",
          "text": [
            "Object Centroid: (405, 175)\n",
            "Object Centroid: (405, 176)\n",
            "Object Centroid: (405, 177)\n",
            "Object Centroid: (405, 178)\n",
            "Object Centroid: (406, 181)\n",
            "Object Centroid: (407, 184)\n",
            "Object Centroid: (408, 188)\n",
            "Object Centroid: (409, 191)\n"
          ]
        },
        {
          "output_type": "stream",
          "name": "stderr",
          "text": [
            "0: 384x640 1 person, 1 cup, 1 apple, 1 dining table, 8.7ms\n",
            "Speed: 2.4ms preprocess, 8.7ms inference, 3.1ms postprocess per image at shape (1, 3, 640, 640)\n",
            "\n",
            "0: 384x640 1 person, 1 cup, 1 apple, 1 dining table, 9.0ms\n",
            "Speed: 2.4ms preprocess, 9.0ms inference, 2.3ms postprocess per image at shape (1, 3, 640, 640)\n",
            "\n",
            "0: 384x640 1 person, 1 cup, 1 apple, 1 dining table, 9.0ms\n",
            "Speed: 2.3ms preprocess, 9.0ms inference, 2.0ms postprocess per image at shape (1, 3, 640, 640)\n",
            "\n",
            "0: 384x640 1 person, 1 cup, 1 apple, 1 dining table, 9.3ms\n",
            "Speed: 2.3ms preprocess, 9.3ms inference, 1.9ms postprocess per image at shape (1, 3, 640, 640)\n",
            "\n",
            "0: 384x640 1 person, 1 cup, 1 apple, 1 dining table, 9.4ms\n",
            "Speed: 2.4ms preprocess, 9.4ms inference, 1.9ms postprocess per image at shape (1, 3, 640, 640)\n",
            "\n",
            "0: 384x640 1 person, 1 cup, 1 apple, 1 dining table, 10.0ms\n",
            "Speed: 2.4ms preprocess, 10.0ms inference, 2.0ms postprocess per image at shape (1, 3, 640, 640)\n",
            "\n",
            "0: 384x640 1 person, 1 cup, 2 apples, 9.1ms\n",
            "Speed: 2.3ms preprocess, 9.1ms inference, 1.9ms postprocess per image at shape (1, 3, 640, 640)\n",
            "\n",
            "0: 384x640 1 person, 1 cup, 2 apples, 8.7ms\n",
            "Speed: 2.6ms preprocess, 8.7ms inference, 2.1ms postprocess per image at shape (1, 3, 640, 640)\n",
            "\n"
          ]
        },
        {
          "output_type": "stream",
          "name": "stdout",
          "text": [
            "Object Centroid: (411, 195)\n",
            "Object Centroid: (414, 200)\n",
            "Object Centroid: (415, 206)\n",
            "Object Centroid: (417, 211)\n",
            "Object Centroid: (419, 215)\n",
            "Object Centroid: (421, 220)\n",
            "Object Centroid: (426, 224)\n",
            "Object Centroid: (430, 225)\n"
          ]
        },
        {
          "output_type": "stream",
          "name": "stderr",
          "text": [
            "0: 384x640 1 person, 1 cup, 1 apple, 13.1ms\n",
            "Speed: 2.5ms preprocess, 13.1ms inference, 5.1ms postprocess per image at shape (1, 3, 640, 640)\n",
            "\n",
            "0: 384x640 1 person, 1 cup, 1 apple, 11.8ms\n",
            "Speed: 2.3ms preprocess, 11.8ms inference, 1.9ms postprocess per image at shape (1, 3, 640, 640)\n",
            "\n",
            "0: 384x640 1 person, 1 cup, 1 apple, 14.8ms\n",
            "Speed: 2.3ms preprocess, 14.8ms inference, 2.2ms postprocess per image at shape (1, 3, 640, 640)\n",
            "\n",
            "0: 384x640 1 person, 1 cup, 1 apple, 8.6ms\n",
            "Speed: 5.7ms preprocess, 8.6ms inference, 2.2ms postprocess per image at shape (1, 3, 640, 640)\n",
            "\n",
            "0: 384x640 1 person, 1 cup, 1 apple, 10.6ms\n",
            "Speed: 2.8ms preprocess, 10.6ms inference, 2.7ms postprocess per image at shape (1, 3, 640, 640)\n",
            "\n",
            "0: 384x640 1 person, 1 cup, 1 apple, 9.5ms\n",
            "Speed: 2.5ms preprocess, 9.5ms inference, 1.9ms postprocess per image at shape (1, 3, 640, 640)\n",
            "\n",
            "0: 384x640 1 person, 1 cup, 1 apple, 9.3ms\n",
            "Speed: 2.5ms preprocess, 9.3ms inference, 1.9ms postprocess per image at shape (1, 3, 640, 640)\n",
            "\n"
          ]
        },
        {
          "output_type": "stream",
          "name": "stdout",
          "text": [
            "Object Centroid: (429, 233)\n",
            "Object Centroid: (430, 237)\n",
            "Object Centroid: (434, 242)\n",
            "Object Centroid: (436, 246)\n",
            "Object Centroid: (446, 226)\n",
            "Object Centroid: (443, 234)\n",
            "Object Centroid: (442, 257)\n"
          ]
        },
        {
          "output_type": "stream",
          "name": "stderr",
          "text": [
            "0: 384x640 1 person, 1 cup, 1 apple, 11.2ms\n",
            "Speed: 4.6ms preprocess, 11.2ms inference, 2.3ms postprocess per image at shape (1, 3, 640, 640)\n",
            "\n",
            "0: 384x640 1 person, 1 cup, 2 apples, 10.0ms\n",
            "Speed: 3.1ms preprocess, 10.0ms inference, 2.4ms postprocess per image at shape (1, 3, 640, 640)\n",
            "\n",
            "0: 384x640 1 person, 1 cup, 2 apples, 10.4ms\n",
            "Speed: 2.6ms preprocess, 10.4ms inference, 2.1ms postprocess per image at shape (1, 3, 640, 640)\n",
            "\n",
            "0: 384x640 1 person, 1 cup, 2 apples, 9.7ms\n",
            "Speed: 3.3ms preprocess, 9.7ms inference, 2.3ms postprocess per image at shape (1, 3, 640, 640)\n",
            "\n",
            "0: 384x640 1 person, 1 cup, 2 apples, 9.6ms\n",
            "Speed: 2.4ms preprocess, 9.6ms inference, 1.9ms postprocess per image at shape (1, 3, 640, 640)\n",
            "\n",
            "0: 384x640 1 person, 1 apple, 9.2ms\n",
            "Speed: 2.4ms preprocess, 9.2ms inference, 2.0ms postprocess per image at shape (1, 3, 640, 640)\n",
            "\n",
            "0: 384x640 1 person, 1 cup, 1 apple, 10.0ms\n",
            "Speed: 2.4ms preprocess, 10.0ms inference, 1.9ms postprocess per image at shape (1, 3, 640, 640)\n",
            "\n"
          ]
        },
        {
          "output_type": "stream",
          "name": "stdout",
          "text": [
            "Object Centroid: (449, 246)\n",
            "Object Centroid: (451, 237)\n",
            "Object Centroid: (447, 259)\n",
            "Object Centroid: (447, 261)\n",
            "Object Centroid: (448, 262)\n",
            "Object Centroid: (449, 251)\n",
            "Object Centroid: (450, 256)\n"
          ]
        },
        {
          "output_type": "stream",
          "name": "stderr",
          "text": [
            "0: 384x640 1 person, 1 cup, 2 apples, 9.1ms\n",
            "Speed: 2.5ms preprocess, 9.1ms inference, 2.0ms postprocess per image at shape (1, 3, 640, 640)\n",
            "\n",
            "0: 384x640 1 person, 1 cup, 1 apple, 8.6ms\n",
            "Speed: 2.6ms preprocess, 8.6ms inference, 2.1ms postprocess per image at shape (1, 3, 640, 640)\n",
            "\n",
            "0: 384x640 1 person, 1 cup, 1 apple, 8.3ms\n",
            "Speed: 2.4ms preprocess, 8.3ms inference, 2.2ms postprocess per image at shape (1, 3, 640, 640)\n",
            "\n",
            "0: 384x640 1 person, 1 cup, 1 apple, 9.5ms\n",
            "Speed: 2.5ms preprocess, 9.5ms inference, 2.3ms postprocess per image at shape (1, 3, 640, 640)\n",
            "\n",
            "0: 384x640 1 person, 1 cup, 1 apple, 10.7ms\n",
            "Speed: 2.5ms preprocess, 10.7ms inference, 2.0ms postprocess per image at shape (1, 3, 640, 640)\n",
            "\n",
            "0: 384x640 1 person, 1 apple, 9.0ms\n",
            "Speed: 2.4ms preprocess, 9.0ms inference, 2.2ms postprocess per image at shape (1, 3, 640, 640)\n",
            "\n",
            "0: 384x640 1 person, 1 apple, 8.5ms\n",
            "Speed: 2.4ms preprocess, 8.5ms inference, 2.0ms postprocess per image at shape (1, 3, 640, 640)\n",
            "\n",
            "0: 384x640 1 person, 1 cup, 1 apple, 10.1ms\n",
            "Speed: 2.4ms preprocess, 10.1ms inference, 1.9ms postprocess per image at shape (1, 3, 640, 640)\n",
            "\n"
          ]
        },
        {
          "output_type": "stream",
          "name": "stdout",
          "text": [
            "Object Centroid: (450, 264)\n",
            "Object Centroid: (449, 266)\n",
            "Object Centroid: (450, 264)\n",
            "Object Centroid: (452, 264)\n",
            "Object Centroid: (452, 263)\n",
            "Object Centroid: (451, 261)\n",
            "Object Centroid: (451, 260)\n",
            "Object Centroid: (451, 258)\n"
          ]
        },
        {
          "output_type": "stream",
          "name": "stderr",
          "text": [
            "0: 384x640 1 person, 1 cup, 1 apple, 8.9ms\n",
            "Speed: 3.2ms preprocess, 8.9ms inference, 2.1ms postprocess per image at shape (1, 3, 640, 640)\n",
            "\n",
            "0: 384x640 1 person, 1 cup, 1 apple, 9.0ms\n",
            "Speed: 2.4ms preprocess, 9.0ms inference, 2.2ms postprocess per image at shape (1, 3, 640, 640)\n",
            "\n",
            "0: 384x640 1 person, 1 cup, 1 apple, 9.1ms\n",
            "Speed: 2.3ms preprocess, 9.1ms inference, 1.9ms postprocess per image at shape (1, 3, 640, 640)\n",
            "\n",
            "0: 384x640 1 person, 1 cup, 1 apple, 9.0ms\n",
            "Speed: 2.4ms preprocess, 9.0ms inference, 2.2ms postprocess per image at shape (1, 3, 640, 640)\n",
            "\n",
            "0: 384x640 1 person, 1 cup, 1 apple, 9.0ms\n",
            "Speed: 2.3ms preprocess, 9.0ms inference, 1.8ms postprocess per image at shape (1, 3, 640, 640)\n",
            "\n",
            "0: 384x640 1 person, 1 cup, 1 apple, 9.3ms\n",
            "Speed: 2.4ms preprocess, 9.3ms inference, 1.8ms postprocess per image at shape (1, 3, 640, 640)\n",
            "\n",
            "0: 384x640 1 person, 1 cup, 1 apple, 9.4ms\n",
            "Speed: 2.5ms preprocess, 9.4ms inference, 1.9ms postprocess per image at shape (1, 3, 640, 640)\n",
            "\n",
            "0: 384x640 1 person, 1 cup, 1 apple, 10.1ms\n",
            "Speed: 2.6ms preprocess, 10.1ms inference, 2.1ms postprocess per image at shape (1, 3, 640, 640)\n",
            "\n"
          ]
        },
        {
          "output_type": "stream",
          "name": "stdout",
          "text": [
            "Object Centroid: (452, 257)\n",
            "Object Centroid: (453, 256)\n",
            "Object Centroid: (454, 255)\n",
            "Object Centroid: (455, 255)\n",
            "Object Centroid: (456, 254)\n",
            "Object Centroid: (457, 253)\n",
            "Object Centroid: (457, 252)\n",
            "Object Centroid: (458, 251)\n"
          ]
        },
        {
          "output_type": "stream",
          "name": "stderr",
          "text": [
            "0: 384x640 1 person, 1 cup, 1 apple, 10.4ms\n",
            "Speed: 2.5ms preprocess, 10.4ms inference, 2.0ms postprocess per image at shape (1, 3, 640, 640)\n",
            "\n",
            "0: 384x640 1 person, 1 cup, 1 apple, 9.2ms\n",
            "Speed: 2.2ms preprocess, 9.2ms inference, 2.4ms postprocess per image at shape (1, 3, 640, 640)\n",
            "\n",
            "0: 384x640 1 person, 1 cup, 1 apple, 8.4ms\n",
            "Speed: 2.4ms preprocess, 8.4ms inference, 2.2ms postprocess per image at shape (1, 3, 640, 640)\n",
            "\n",
            "0: 384x640 1 person, 1 cup, 1 apple, 9.5ms\n",
            "Speed: 2.3ms preprocess, 9.5ms inference, 2.0ms postprocess per image at shape (1, 3, 640, 640)\n",
            "\n",
            "0: 384x640 1 person, 1 cup, 2 apples, 9.0ms\n",
            "Speed: 2.3ms preprocess, 9.0ms inference, 2.3ms postprocess per image at shape (1, 3, 640, 640)\n",
            "\n",
            "0: 384x640 1 person, 1 cup, 2 apples, 9.7ms\n",
            "Speed: 2.2ms preprocess, 9.7ms inference, 2.1ms postprocess per image at shape (1, 3, 640, 640)\n",
            "\n",
            "0: 384x640 1 person, 1 cup, 1 apple, 10.5ms\n",
            "Speed: 2.3ms preprocess, 10.5ms inference, 2.0ms postprocess per image at shape (1, 3, 640, 640)\n",
            "\n",
            "0: 384x640 1 person, 1 cup, 1 apple, 8.5ms\n",
            "Speed: 2.4ms preprocess, 8.5ms inference, 2.0ms postprocess per image at shape (1, 3, 640, 640)\n",
            "\n"
          ]
        },
        {
          "output_type": "stream",
          "name": "stdout",
          "text": [
            "Object Centroid: (458, 250)\n",
            "Object Centroid: (460, 248)\n",
            "Object Centroid: (461, 248)\n",
            "Object Centroid: (462, 246)\n",
            "Object Centroid: (465, 245)\n",
            "Object Centroid: (466, 243)\n",
            "Object Centroid: (467, 241)\n",
            "Object Centroid: (468, 240)\n"
          ]
        },
        {
          "output_type": "stream",
          "name": "stderr",
          "text": [
            "0: 384x640 1 person, 1 cup, 1 apple, 15.1ms\n",
            "Speed: 2.3ms preprocess, 15.1ms inference, 2.1ms postprocess per image at shape (1, 3, 640, 640)\n",
            "\n",
            "0: 384x640 1 person, 1 cup, 1 apple, 9.9ms\n",
            "Speed: 2.4ms preprocess, 9.9ms inference, 2.3ms postprocess per image at shape (1, 3, 640, 640)\n",
            "\n",
            "0: 384x640 1 person, 1 cup, 1 apple, 9.2ms\n",
            "Speed: 2.5ms preprocess, 9.2ms inference, 2.0ms postprocess per image at shape (1, 3, 640, 640)\n",
            "\n",
            "0: 384x640 1 person, 1 cup, 1 apple, 8.4ms\n",
            "Speed: 2.7ms preprocess, 8.4ms inference, 2.1ms postprocess per image at shape (1, 3, 640, 640)\n",
            "\n",
            "0: 384x640 1 person, 1 cup, 1 apple, 10.8ms\n",
            "Speed: 2.4ms preprocess, 10.8ms inference, 2.4ms postprocess per image at shape (1, 3, 640, 640)\n",
            "\n",
            "0: 384x640 1 person, 1 cup, 1 apple, 9.9ms\n",
            "Speed: 2.6ms preprocess, 9.9ms inference, 2.4ms postprocess per image at shape (1, 3, 640, 640)\n",
            "\n",
            "0: 384x640 1 person, 1 cup, 1 apple, 10.0ms\n",
            "Speed: 2.4ms preprocess, 10.0ms inference, 2.2ms postprocess per image at shape (1, 3, 640, 640)\n",
            "\n",
            "0: 384x640 1 person, 1 cup, 1 apple, 8.8ms\n",
            "Speed: 2.4ms preprocess, 8.8ms inference, 2.1ms postprocess per image at shape (1, 3, 640, 640)\n"
          ]
        },
        {
          "output_type": "stream",
          "name": "stdout",
          "text": [
            "Object Centroid: (468, 237)\n",
            "Object Centroid: (468, 207)\n",
            "Object Centroid: (468, 205)\n",
            "Object Centroid: (468, 204)\n",
            "Object Centroid: (468, 202)\n",
            "Object Centroid: (469, 202)\n",
            "Object Centroid: (468, 201)\n"
          ]
        },
        {
          "output_type": "stream",
          "name": "stderr",
          "text": [
            "\n",
            "0: 384x640 1 person, 1 cup, 1 apple, 8.7ms\n",
            "Speed: 2.6ms preprocess, 8.7ms inference, 2.1ms postprocess per image at shape (1, 3, 640, 640)\n",
            "\n",
            "0: 384x640 1 person, 1 cup, 1 apple, 10.0ms\n",
            "Speed: 2.6ms preprocess, 10.0ms inference, 2.0ms postprocess per image at shape (1, 3, 640, 640)\n",
            "\n",
            "0: 384x640 1 person, 1 cup, 1 apple, 8.1ms\n",
            "Speed: 2.2ms preprocess, 8.1ms inference, 2.1ms postprocess per image at shape (1, 3, 640, 640)\n",
            "\n",
            "0: 384x640 1 person, 1 cup, 1 apple, 9.3ms\n",
            "Speed: 2.4ms preprocess, 9.3ms inference, 2.4ms postprocess per image at shape (1, 3, 640, 640)\n",
            "\n",
            "0: 384x640 1 person, 1 cup, 1 apple, 9.5ms\n",
            "Speed: 2.4ms preprocess, 9.5ms inference, 1.9ms postprocess per image at shape (1, 3, 640, 640)\n",
            "\n",
            "0: 384x640 1 person, 1 cup, 1 apple, 10.3ms\n",
            "Speed: 2.5ms preprocess, 10.3ms inference, 2.1ms postprocess per image at shape (1, 3, 640, 640)\n",
            "\n",
            "0: 384x640 1 person, 1 cup, 1 apple, 8.5ms\n",
            "Speed: 2.6ms preprocess, 8.5ms inference, 2.5ms postprocess per image at shape (1, 3, 640, 640)\n",
            "\n"
          ]
        },
        {
          "output_type": "stream",
          "name": "stdout",
          "text": [
            "Object Centroid: (469, 201)\n",
            "Object Centroid: (470, 201)\n",
            "Object Centroid: (470, 201)\n",
            "Object Centroid: (470, 199)\n",
            "Object Centroid: (470, 199)\n",
            "Object Centroid: (470, 199)\n",
            "Object Centroid: (471, 199)\n",
            "Object Centroid: (471, 199)\n"
          ]
        },
        {
          "output_type": "stream",
          "name": "stderr",
          "text": [
            "0: 384x640 1 person, 1 cup, 1 apple, 10.9ms\n",
            "Speed: 2.5ms preprocess, 10.9ms inference, 2.2ms postprocess per image at shape (1, 3, 640, 640)\n",
            "\n",
            "0: 384x640 1 person, 1 cup, 1 apple, 9.8ms\n",
            "Speed: 2.6ms preprocess, 9.8ms inference, 2.1ms postprocess per image at shape (1, 3, 640, 640)\n",
            "\n",
            "0: 384x640 1 person, 1 cup, 1 apple, 10.2ms\n",
            "Speed: 2.3ms preprocess, 10.2ms inference, 1.9ms postprocess per image at shape (1, 3, 640, 640)\n",
            "\n",
            "0: 384x640 1 person, 1 cup, 1 apple, 9.2ms\n",
            "Speed: 2.4ms preprocess, 9.2ms inference, 1.9ms postprocess per image at shape (1, 3, 640, 640)\n",
            "\n",
            "0: 384x640 1 person, 1 cup, 1 apple, 10.1ms\n",
            "Speed: 2.6ms preprocess, 10.1ms inference, 1.9ms postprocess per image at shape (1, 3, 640, 640)\n",
            "\n",
            "0: 384x640 1 person, 1 cup, 1 apple, 11.0ms\n",
            "Speed: 2.4ms preprocess, 11.0ms inference, 1.9ms postprocess per image at shape (1, 3, 640, 640)\n",
            "\n",
            "0: 384x640 1 person, 1 cup, 1 apple, 9.4ms\n",
            "Speed: 2.4ms preprocess, 9.4ms inference, 2.4ms postprocess per image at shape (1, 3, 640, 640)\n",
            "\n",
            "0: 384x640 1 person, 1 cup, 1 apple, 9.6ms\n",
            "Speed: 2.4ms preprocess, 9.6ms inference, 1.9ms postprocess per image at shape (1, 3, 640, 640)\n"
          ]
        },
        {
          "output_type": "stream",
          "name": "stdout",
          "text": [
            "Object Centroid: (471, 199)\n",
            "Object Centroid: (471, 199)\n",
            "Object Centroid: (472, 199)\n",
            "Object Centroid: (472, 199)\n",
            "Object Centroid: (471, 205)\n",
            "Object Centroid: (472, 224)\n",
            "Object Centroid: (472, 225)\n",
            "Object Centroid: (472, 224)\n"
          ]
        },
        {
          "output_type": "stream",
          "name": "stderr",
          "text": [
            "\n",
            "0: 384x640 1 person, 1 cup, 1 apple, 8.6ms\n",
            "Speed: 2.5ms preprocess, 8.6ms inference, 2.5ms postprocess per image at shape (1, 3, 640, 640)\n",
            "\n",
            "0: 384x640 1 person, 1 cup, 1 apple, 9.5ms\n",
            "Speed: 2.5ms preprocess, 9.5ms inference, 2.3ms postprocess per image at shape (1, 3, 640, 640)\n",
            "\n",
            "0: 384x640 1 person, 1 cup, 1 apple, 9.3ms\n",
            "Speed: 2.4ms preprocess, 9.3ms inference, 1.8ms postprocess per image at shape (1, 3, 640, 640)\n",
            "\n",
            "0: 384x640 1 person, 1 cup, 1 apple, 10.0ms\n",
            "Speed: 2.4ms preprocess, 10.0ms inference, 2.3ms postprocess per image at shape (1, 3, 640, 640)\n",
            "\n",
            "0: 384x640 1 person, 1 cup, 1 apple, 12.4ms\n",
            "Speed: 2.3ms preprocess, 12.4ms inference, 2.4ms postprocess per image at shape (1, 3, 640, 640)\n",
            "\n",
            "0: 384x640 1 person, 1 cup, 1 apple, 12.0ms\n",
            "Speed: 3.9ms preprocess, 12.0ms inference, 5.7ms postprocess per image at shape (1, 3, 640, 640)\n",
            "\n",
            "0: 384x640 1 person, 1 cup, 1 apple, 13.5ms\n",
            "Speed: 2.6ms preprocess, 13.5ms inference, 2.2ms postprocess per image at shape (1, 3, 640, 640)\n",
            "\n"
          ]
        },
        {
          "output_type": "stream",
          "name": "stdout",
          "text": [
            "Object Centroid: (472, 224)\n",
            "Object Centroid: (472, 224)\n",
            "Object Centroid: (472, 225)\n",
            "Object Centroid: (473, 225)\n",
            "Object Centroid: (475, 226)\n",
            "Object Centroid: (477, 227)\n",
            "Object Centroid: (477, 229)\n"
          ]
        },
        {
          "output_type": "stream",
          "name": "stderr",
          "text": [
            "0: 384x640 1 person, 1 cup, 1 apple, 11.7ms\n",
            "Speed: 2.3ms preprocess, 11.7ms inference, 1.9ms postprocess per image at shape (1, 3, 640, 640)\n",
            "\n",
            "0: 384x640 1 person, 1 cup, 1 apple, 11.6ms\n",
            "Speed: 2.4ms preprocess, 11.6ms inference, 2.2ms postprocess per image at shape (1, 3, 640, 640)\n",
            "\n",
            "0: 384x640 1 person, 1 cup, 1 apple, 9.1ms\n",
            "Speed: 2.3ms preprocess, 9.1ms inference, 1.9ms postprocess per image at shape (1, 3, 640, 640)\n",
            "\n",
            "0: 384x640 1 person, 1 cup, 1 apple, 9.3ms\n",
            "Speed: 2.5ms preprocess, 9.3ms inference, 2.1ms postprocess per image at shape (1, 3, 640, 640)\n",
            "\n",
            "0: 384x640 1 person, 1 cup, 1 apple, 1 donut, 8.5ms\n",
            "Speed: 2.3ms preprocess, 8.5ms inference, 2.1ms postprocess per image at shape (1, 3, 640, 640)\n",
            "\n",
            "0: 384x640 1 person, 1 cup, 1 apple, 1 donut, 10.0ms\n",
            "Speed: 2.5ms preprocess, 10.0ms inference, 1.9ms postprocess per image at shape (1, 3, 640, 640)\n",
            "\n",
            "0: 384x640 1 person, 1 cup, 1 apple, 1 donut, 8.6ms\n",
            "Speed: 2.4ms preprocess, 8.6ms inference, 1.9ms postprocess per image at shape (1, 3, 640, 640)\n",
            "\n",
            "0: 384x640 1 person, 1 cup, 1 apple, 1 donut, 8.8ms\n",
            "Speed: 2.3ms preprocess, 8.8ms inference, 1.9ms postprocess per image at shape (1, 3, 640, 640)\n",
            "\n"
          ]
        },
        {
          "output_type": "stream",
          "name": "stdout",
          "text": [
            "Object Centroid: (478, 231)\n",
            "Object Centroid: (480, 234)\n",
            "Object Centroid: (482, 235)\n",
            "Object Centroid: (485, 236)\n",
            "Object Centroid: (487, 235)\n",
            "Object Centroid: (490, 235)\n",
            "Object Centroid: (493, 237)\n",
            "Object Centroid: (496, 236)\n"
          ]
        },
        {
          "output_type": "stream",
          "name": "stderr",
          "text": [
            "0: 384x640 1 person, 1 cup, 1 apple, 1 donut, 15.9ms\n",
            "Speed: 3.1ms preprocess, 15.9ms inference, 2.3ms postprocess per image at shape (1, 3, 640, 640)\n",
            "\n",
            "0: 384x640 1 person, 1 cup, 1 donut, 16.1ms\n",
            "Speed: 2.5ms preprocess, 16.1ms inference, 2.5ms postprocess per image at shape (1, 3, 640, 640)\n",
            "\n",
            "0: 384x640 1 person, 1 cup, 1 donut, 9.8ms\n",
            "Speed: 5.5ms preprocess, 9.8ms inference, 5.5ms postprocess per image at shape (1, 3, 640, 640)\n",
            "\n",
            "0: 384x640 1 person, 1 cup, 1 donut, 8.4ms\n",
            "Speed: 2.3ms preprocess, 8.4ms inference, 1.9ms postprocess per image at shape (1, 3, 640, 640)\n",
            "\n",
            "0: 384x640 1 person, 1 cup, 1 donut, 8.8ms\n",
            "Speed: 3.2ms preprocess, 8.8ms inference, 2.1ms postprocess per image at shape (1, 3, 640, 640)\n",
            "\n",
            "0: 384x640 1 person, 1 cup, 1 orange, 1 donut, 15.0ms\n",
            "Speed: 2.4ms preprocess, 15.0ms inference, 3.4ms postprocess per image at shape (1, 3, 640, 640)\n",
            "\n",
            "0: 384x640 1 person, 1 cup, 1 orange, 1 donut, 8.2ms\n",
            "Speed: 2.6ms preprocess, 8.2ms inference, 2.2ms postprocess per image at shape (1, 3, 640, 640)\n"
          ]
        },
        {
          "output_type": "stream",
          "name": "stdout",
          "text": [
            "Object Centroid: (500, 238)\n"
          ]
        },
        {
          "output_type": "stream",
          "name": "stderr",
          "text": [
            "\n",
            "0: 384x640 1 person, 1 cup, 1 orange, 1 donut, 9.7ms\n",
            "Speed: 2.7ms preprocess, 9.7ms inference, 2.1ms postprocess per image at shape (1, 3, 640, 640)\n",
            "\n",
            "0: 384x640 1 person, 1 cup, 1 orange, 1 donut, 9.9ms\n",
            "Speed: 2.7ms preprocess, 9.9ms inference, 2.9ms postprocess per image at shape (1, 3, 640, 640)\n",
            "\n",
            "0: 384x640 2 persons, 1 cup, 1 orange, 1 donut, 13.1ms\n",
            "Speed: 3.7ms preprocess, 13.1ms inference, 2.4ms postprocess per image at shape (1, 3, 640, 640)\n",
            "\n",
            "0: 384x640 1 person, 1 cup, 1 orange, 1 donut, 11.0ms\n",
            "Speed: 2.5ms preprocess, 11.0ms inference, 2.0ms postprocess per image at shape (1, 3, 640, 640)\n",
            "\n",
            "0: 384x640 1 person, 1 cup, 1 orange, 1 donut, 9.1ms\n",
            "Speed: 2.5ms preprocess, 9.1ms inference, 2.3ms postprocess per image at shape (1, 3, 640, 640)\n",
            "\n",
            "0: 384x640 1 person, 1 cup, 1 orange, 1 donut, 12.0ms\n",
            "Speed: 2.8ms preprocess, 12.0ms inference, 2.8ms postprocess per image at shape (1, 3, 640, 640)\n",
            "\n",
            "0: 384x640 2 persons, 1 cup, 1 orange, 1 donut, 14.5ms\n",
            "Speed: 2.5ms preprocess, 14.5ms inference, 4.1ms postprocess per image at shape (1, 3, 640, 640)\n",
            "\n",
            "0: 384x640 1 person, 1 cup, 1 orange, 1 donut, 17.6ms\n",
            "Speed: 2.5ms preprocess, 17.6ms inference, 2.4ms postprocess per image at shape (1, 3, 640, 640)\n",
            "\n",
            "0: 384x640 1 person, 1 cup, 1 orange, 1 donut, 12.4ms\n",
            "Speed: 2.5ms preprocess, 12.4ms inference, 2.3ms postprocess per image at shape (1, 3, 640, 640)\n",
            "\n",
            "0: 384x640 1 person, 1 cup, 1 orange, 1 donut, 12.3ms\n",
            "Speed: 2.6ms preprocess, 12.3ms inference, 2.4ms postprocess per image at shape (1, 3, 640, 640)\n",
            "\n",
            "0: 384x640 1 person, 1 cup, 1 orange, 1 donut, 13.1ms\n",
            "Speed: 2.5ms preprocess, 13.1ms inference, 2.3ms postprocess per image at shape (1, 3, 640, 640)\n",
            "\n",
            "0: 384x640 1 person, 1 cup, 1 orange, 1 donut, 12.4ms\n",
            "Speed: 3.5ms preprocess, 12.4ms inference, 2.3ms postprocess per image at shape (1, 3, 640, 640)\n",
            "\n",
            "0: 384x640 1 person, 1 cup, 1 orange, 1 donut, 18.6ms\n",
            "Speed: 2.5ms preprocess, 18.6ms inference, 7.2ms postprocess per image at shape (1, 3, 640, 640)\n",
            "\n",
            "0: 384x640 1 person, 1 cup, 1 orange, 1 donut, 14.9ms\n",
            "Speed: 3.1ms preprocess, 14.9ms inference, 2.3ms postprocess per image at shape (1, 3, 640, 640)\n",
            "\n",
            "0: 384x640 1 person, 1 cup, 1 orange, 1 donut, 17.0ms\n",
            "Speed: 2.6ms preprocess, 17.0ms inference, 2.3ms postprocess per image at shape (1, 3, 640, 640)\n",
            "\n",
            "0: 384x640 1 person, 1 cup, 1 orange, 1 donut, 11.7ms\n",
            "Speed: 2.4ms preprocess, 11.7ms inference, 2.3ms postprocess per image at shape (1, 3, 640, 640)\n",
            "\n",
            "0: 384x640 1 person, 1 cup, 1 orange, 11.1ms\n",
            "Speed: 2.5ms preprocess, 11.1ms inference, 1.8ms postprocess per image at shape (1, 3, 640, 640)\n",
            "\n",
            "0: 384x640 1 person, 1 cup, 1 donut, 12.7ms\n",
            "Speed: 2.4ms preprocess, 12.7ms inference, 2.2ms postprocess per image at shape (1, 3, 640, 640)\n",
            "\n",
            "0: 384x640 1 person, 1 cup, 1 apple, 1 donut, 13.3ms\n",
            "Speed: 2.7ms preprocess, 13.3ms inference, 2.4ms postprocess per image at shape (1, 3, 640, 640)\n",
            "\n",
            "0: 384x640 1 person, 1 cup, 1 apple, 1 donut, 12.8ms\n",
            "Speed: 2.4ms preprocess, 12.8ms inference, 2.2ms postprocess per image at shape (1, 3, 640, 640)\n",
            "\n",
            "0: 384x640 1 person, 1 cup, 1 apple, 1 donut, 16.7ms\n",
            "Speed: 2.5ms preprocess, 16.7ms inference, 2.3ms postprocess per image at shape (1, 3, 640, 640)\n",
            "\n",
            "0: 384x640 1 person, 1 cup, 1 apple, 12.6ms\n",
            "Speed: 3.9ms preprocess, 12.6ms inference, 2.3ms postprocess per image at shape (1, 3, 640, 640)\n",
            "\n",
            "0: 384x640 1 person, 1 cup, 1 apple, 1 orange, 11.8ms\n",
            "Speed: 4.0ms preprocess, 11.8ms inference, 2.3ms postprocess per image at shape (1, 3, 640, 640)\n",
            "\n",
            "0: 384x640 1 person, 1 cup, 1 apple, 1 orange, 10.9ms\n",
            "Speed: 2.3ms preprocess, 10.9ms inference, 1.9ms postprocess per image at shape (1, 3, 640, 640)\n",
            "\n"
          ]
        },
        {
          "output_type": "stream",
          "name": "stdout",
          "text": [
            "Object Centroid: (518, 251)\n",
            "Object Centroid: (518, 250)\n",
            "Object Centroid: (518, 248)\n",
            "Object Centroid: (521, 245)\n",
            "Object Centroid: (521, 242)\n",
            "Object Centroid: (522, 240)\n"
          ]
        },
        {
          "output_type": "stream",
          "name": "stderr",
          "text": [
            "0: 384x640 1 person, 1 cup, 1 apple, 1 orange, 10.8ms\n",
            "Speed: 2.6ms preprocess, 10.8ms inference, 3.1ms postprocess per image at shape (1, 3, 640, 640)\n",
            "\n",
            "0: 384x640 1 person, 1 cup, 1 apple, 14.5ms\n",
            "Speed: 2.5ms preprocess, 14.5ms inference, 3.5ms postprocess per image at shape (1, 3, 640, 640)\n",
            "\n",
            "0: 384x640 1 person, 1 cup, 1 apple, 1 orange, 11.7ms\n",
            "Speed: 2.9ms preprocess, 11.7ms inference, 2.4ms postprocess per image at shape (1, 3, 640, 640)\n",
            "\n",
            "0: 384x640 1 person, 1 cup, 1 apple, 12.2ms\n",
            "Speed: 2.7ms preprocess, 12.2ms inference, 2.2ms postprocess per image at shape (1, 3, 640, 640)\n",
            "\n",
            "0: 384x640 1 person, 1 cup, 1 apple, 1 orange, 12.2ms\n",
            "Speed: 2.5ms preprocess, 12.2ms inference, 2.3ms postprocess per image at shape (1, 3, 640, 640)\n",
            "\n",
            "0: 384x640 1 person, 1 cup, 1 apple, 12.5ms\n",
            "Speed: 2.6ms preprocess, 12.5ms inference, 1.9ms postprocess per image at shape (1, 3, 640, 640)\n",
            "\n",
            "0: 384x640 1 person, 1 cup, 1 apple, 11.3ms\n",
            "Speed: 2.4ms preprocess, 11.3ms inference, 2.4ms postprocess per image at shape (1, 3, 640, 640)\n"
          ]
        },
        {
          "output_type": "stream",
          "name": "stdout",
          "text": [
            "Object Centroid: (524, 238)\n",
            "Object Centroid: (527, 237)\n",
            "Object Centroid: (531, 235)\n",
            "Object Centroid: (533, 236)\n",
            "Object Centroid: (534, 237)\n",
            "Object Centroid: (535, 239)\n",
            "Object Centroid: (534, 241)\n"
          ]
        },
        {
          "output_type": "stream",
          "name": "stderr",
          "text": [
            "\n",
            "0: 384x640 1 person, 1 cup, 1 apple, 13.2ms\n",
            "Speed: 2.6ms preprocess, 13.2ms inference, 2.3ms postprocess per image at shape (1, 3, 640, 640)\n",
            "\n",
            "0: 384x640 1 person, 1 cup, 1 apple, 14.9ms\n",
            "Speed: 5.3ms preprocess, 14.9ms inference, 2.3ms postprocess per image at shape (1, 3, 640, 640)\n",
            "\n",
            "0: 384x640 1 person, 1 cup, 1 apple, 11.6ms\n",
            "Speed: 2.3ms preprocess, 11.6ms inference, 2.2ms postprocess per image at shape (1, 3, 640, 640)\n",
            "\n",
            "0: 384x640 1 person, 1 cup, 1 apple, 11.9ms\n",
            "Speed: 2.5ms preprocess, 11.9ms inference, 2.3ms postprocess per image at shape (1, 3, 640, 640)\n",
            "\n",
            "0: 384x640 1 person, 1 cup, 1 apple, 10.8ms\n",
            "Speed: 2.7ms preprocess, 10.8ms inference, 2.4ms postprocess per image at shape (1, 3, 640, 640)\n",
            "\n",
            "0: 384x640 1 person, 1 cup, 1 apple, 11.3ms\n",
            "Speed: 2.5ms preprocess, 11.3ms inference, 2.3ms postprocess per image at shape (1, 3, 640, 640)\n",
            "\n"
          ]
        },
        {
          "output_type": "stream",
          "name": "stdout",
          "text": [
            "Object Centroid: (535, 245)\n",
            "Object Centroid: (538, 249)\n",
            "Object Centroid: (538, 252)\n",
            "Object Centroid: (537, 255)\n",
            "Object Centroid: (539, 259)\n",
            "Object Centroid: (541, 264)\n"
          ]
        },
        {
          "output_type": "stream",
          "name": "stderr",
          "text": [
            "0: 384x640 1 person, 1 cup, 1 apple, 13.2ms\n",
            "Speed: 2.4ms preprocess, 13.2ms inference, 1.9ms postprocess per image at shape (1, 3, 640, 640)\n",
            "\n",
            "0: 384x640 1 person, 1 cup, 1 apple, 10.7ms\n",
            "Speed: 2.4ms preprocess, 10.7ms inference, 2.4ms postprocess per image at shape (1, 3, 640, 640)\n",
            "\n",
            "0: 384x640 1 person, 1 cup, 1 apple, 13.5ms\n",
            "Speed: 3.6ms preprocess, 13.5ms inference, 2.5ms postprocess per image at shape (1, 3, 640, 640)\n",
            "\n",
            "0: 384x640 1 person, 1 cup, 1 apple, 11.0ms\n",
            "Speed: 2.5ms preprocess, 11.0ms inference, 2.2ms postprocess per image at shape (1, 3, 640, 640)\n",
            "\n",
            "0: 384x640 1 person, 1 cup, 1 apple, 12.5ms\n",
            "Speed: 2.4ms preprocess, 12.5ms inference, 2.2ms postprocess per image at shape (1, 3, 640, 640)\n",
            "\n",
            "0: 384x640 1 person, 1 cup, 1 apple, 13.2ms\n",
            "Speed: 2.8ms preprocess, 13.2ms inference, 2.3ms postprocess per image at shape (1, 3, 640, 640)\n",
            "\n",
            "0: 384x640 1 person, 1 cup, 1 apple, 11.0ms\n",
            "Speed: 2.4ms preprocess, 11.0ms inference, 4.2ms postprocess per image at shape (1, 3, 640, 640)\n"
          ]
        },
        {
          "output_type": "stream",
          "name": "stdout",
          "text": [
            "Object Centroid: (539, 267)\n",
            "Object Centroid: (536, 272)\n",
            "Object Centroid: (535, 275)\n",
            "Object Centroid: (532, 277)\n",
            "Object Centroid: (530, 278)\n",
            "Object Centroid: (527, 278)\n",
            "Object Centroid: (524, 278)\n"
          ]
        },
        {
          "output_type": "stream",
          "name": "stderr",
          "text": [
            "\n",
            "0: 384x640 1 person, 1 cup, 1 apple, 11.4ms\n",
            "Speed: 2.4ms preprocess, 11.4ms inference, 2.2ms postprocess per image at shape (1, 3, 640, 640)\n",
            "\n",
            "0: 384x640 1 person, 1 cup, 1 apple, 15.3ms\n",
            "Speed: 2.4ms preprocess, 15.3ms inference, 2.9ms postprocess per image at shape (1, 3, 640, 640)\n",
            "\n",
            "0: 384x640 1 person, 1 cup, 1 apple, 11.1ms\n",
            "Speed: 2.5ms preprocess, 11.1ms inference, 2.3ms postprocess per image at shape (1, 3, 640, 640)\n",
            "\n",
            "0: 384x640 1 person, 1 cup, 1 apple, 10.1ms\n",
            "Speed: 2.5ms preprocess, 10.1ms inference, 3.1ms postprocess per image at shape (1, 3, 640, 640)\n",
            "\n",
            "0: 384x640 1 person, 1 cup, 1 apple, 8.5ms\n",
            "Speed: 2.6ms preprocess, 8.5ms inference, 1.8ms postprocess per image at shape (1, 3, 640, 640)\n",
            "\n",
            "0: 384x640 1 person, 1 cup, 1 apple, 12.6ms\n",
            "Speed: 2.3ms preprocess, 12.6ms inference, 2.2ms postprocess per image at shape (1, 3, 640, 640)\n",
            "\n",
            "0: 384x640 1 person, 1 cup, 1 apple, 8.7ms\n",
            "Speed: 2.5ms preprocess, 8.7ms inference, 1.5ms postprocess per image at shape (1, 3, 640, 640)\n",
            "\n"
          ]
        },
        {
          "output_type": "stream",
          "name": "stdout",
          "text": [
            "Object Centroid: (521, 278)\n",
            "Object Centroid: (520, 279)\n",
            "Object Centroid: (517, 278)\n",
            "Object Centroid: (516, 278)\n",
            "Object Centroid: (515, 278)\n",
            "Object Centroid: (515, 279)\n",
            "Object Centroid: (516, 282)\n"
          ]
        },
        {
          "output_type": "stream",
          "name": "stderr",
          "text": [
            "0: 384x640 1 person, 1 cup, 1 apple, 11.1ms\n",
            "Speed: 2.2ms preprocess, 11.1ms inference, 2.0ms postprocess per image at shape (1, 3, 640, 640)\n",
            "\n",
            "0: 384x640 1 person, 1 cup, 1 apple, 8.8ms\n",
            "Speed: 2.3ms preprocess, 8.8ms inference, 1.8ms postprocess per image at shape (1, 3, 640, 640)\n",
            "\n",
            "0: 384x640 1 person, 1 cup, 1 apple, 7.4ms\n",
            "Speed: 2.5ms preprocess, 7.4ms inference, 1.7ms postprocess per image at shape (1, 3, 640, 640)\n",
            "\n",
            "0: 384x640 1 person, 1 cup, 1 apple, 1 bed, 7.5ms\n",
            "Speed: 2.6ms preprocess, 7.5ms inference, 1.6ms postprocess per image at shape (1, 3, 640, 640)\n",
            "\n",
            "0: 384x640 1 person, 1 cup, 1 apple, 1 bed, 9.1ms\n",
            "Speed: 3.5ms preprocess, 9.1ms inference, 2.4ms postprocess per image at shape (1, 3, 640, 640)\n",
            "\n",
            "0: 384x640 1 person, 1 cup, 1 apple, 1 bed, 9.8ms\n",
            "Speed: 2.7ms preprocess, 9.8ms inference, 1.5ms postprocess per image at shape (1, 3, 640, 640)\n",
            "\n",
            "0: 384x640 1 person, 1 cup, 1 apple, 1 bed, 7.7ms\n",
            "Speed: 2.8ms preprocess, 7.7ms inference, 1.6ms postprocess per image at shape (1, 3, 640, 640)\n",
            "\n",
            "0: 384x640 1 person, 1 cup, 1 apple, 1 bed, 12.9ms\n",
            "Speed: 2.5ms preprocess, 12.9ms inference, 2.3ms postprocess per image at shape (1, 3, 640, 640)\n",
            "\n"
          ]
        },
        {
          "output_type": "stream",
          "name": "stdout",
          "text": [
            "Object Centroid: (520, 284)\n",
            "Object Centroid: (524, 291)\n",
            "Object Centroid: (526, 298)\n",
            "Object Centroid: (530, 305)\n",
            "Object Centroid: (535, 314)\n",
            "Object Centroid: (540, 325)\n",
            "Object Centroid: (548, 337)\n",
            "Object Centroid: (554, 350)\n"
          ]
        },
        {
          "output_type": "stream",
          "name": "stderr",
          "text": [
            "0: 384x640 1 person, 1 cup, 1 apple, 1 bed, 12.5ms\n",
            "Speed: 2.5ms preprocess, 12.5ms inference, 1.5ms postprocess per image at shape (1, 3, 640, 640)\n",
            "\n",
            "0: 384x640 1 person, 1 apple, 1 bed, 7.8ms\n",
            "Speed: 2.2ms preprocess, 7.8ms inference, 1.4ms postprocess per image at shape (1, 3, 640, 640)\n",
            "\n",
            "0: 384x640 1 person, 1 apple, 1 bed, 7.8ms\n",
            "Speed: 2.4ms preprocess, 7.8ms inference, 1.4ms postprocess per image at shape (1, 3, 640, 640)\n",
            "\n",
            "0: 384x640 1 person, 1 apple, 1 bed, 9.4ms\n",
            "Speed: 2.4ms preprocess, 9.4ms inference, 1.4ms postprocess per image at shape (1, 3, 640, 640)\n",
            "\n",
            "0: 384x640 1 person, 1 apple, 1 bed, 13.0ms\n",
            "Speed: 2.4ms preprocess, 13.0ms inference, 2.0ms postprocess per image at shape (1, 3, 640, 640)\n",
            "\n",
            "0: 384x640 1 person, 1 apple, 1 bed, 8.1ms\n",
            "Speed: 2.4ms preprocess, 8.1ms inference, 1.5ms postprocess per image at shape (1, 3, 640, 640)\n",
            "\n",
            "0: 384x640 1 person, 1 apple, 1 bed, 7.0ms\n",
            "Speed: 2.5ms preprocess, 7.0ms inference, 1.4ms postprocess per image at shape (1, 3, 640, 640)\n",
            "\n",
            "0: 384x640 1 person, 1 apple, 1 bed, 7.9ms\n",
            "Speed: 2.2ms preprocess, 7.9ms inference, 1.6ms postprocess per image at shape (1, 3, 640, 640)\n",
            "\n",
            "0: 384x640 1 person, 1 apple, 1 bed, 7.4ms\n",
            "Speed: 2.3ms preprocess, 7.4ms inference, 1.4ms postprocess per image at shape (1, 3, 640, 640)\n",
            "\n"
          ]
        },
        {
          "output_type": "stream",
          "name": "stdout",
          "text": [
            "Object Centroid: (559, 360)\n",
            "Object Centroid: (564, 367)\n",
            "Object Centroid: (566, 370)\n",
            "Object Centroid: (567, 375)\n",
            "Object Centroid: (566, 377)\n",
            "Object Centroid: (565, 378)\n",
            "Object Centroid: (563, 379)\n",
            "Object Centroid: (561, 379)\n",
            "Object Centroid: (557, 377)\n"
          ]
        },
        {
          "output_type": "stream",
          "name": "stderr",
          "text": [
            "0: 384x640 1 person, 1 apple, 1 bed, 9.4ms\n",
            "Speed: 3.1ms preprocess, 9.4ms inference, 1.5ms postprocess per image at shape (1, 3, 640, 640)\n",
            "\n",
            "0: 384x640 1 person, 1 cup, 1 apple, 1 bed, 9.0ms\n",
            "Speed: 1.9ms preprocess, 9.0ms inference, 1.5ms postprocess per image at shape (1, 3, 640, 640)\n",
            "\n",
            "0: 384x640 1 person, 1 cup, 1 bowl, 1 apple, 1 bed, 7.2ms\n",
            "Speed: 2.6ms preprocess, 7.2ms inference, 1.4ms postprocess per image at shape (1, 3, 640, 640)\n",
            "\n",
            "0: 384x640 1 person, 1 cup, 1 apple, 1 bed, 7.0ms\n",
            "Speed: 4.3ms preprocess, 7.0ms inference, 1.5ms postprocess per image at shape (1, 3, 640, 640)\n",
            "\n",
            "0: 384x640 1 person, 1 bowl, 1 apple, 1 bed, 7.9ms\n",
            "Speed: 4.5ms preprocess, 7.9ms inference, 1.6ms postprocess per image at shape (1, 3, 640, 640)\n",
            "\n",
            "0: 384x640 1 person, 1 cup, 1 apple, 1 bed, 6.8ms\n",
            "Speed: 3.5ms preprocess, 6.8ms inference, 1.5ms postprocess per image at shape (1, 3, 640, 640)\n",
            "\n",
            "0: 384x640 1 person, 1 cup, 1 bowl, 1 apple, 1 bed, 6.3ms\n",
            "Speed: 2.8ms preprocess, 6.3ms inference, 1.5ms postprocess per image at shape (1, 3, 640, 640)\n",
            "\n",
            "0: 384x640 1 person, 1 cup, 1 apple, 1 bed, 7.7ms\n",
            "Speed: 2.6ms preprocess, 7.7ms inference, 1.6ms postprocess per image at shape (1, 3, 640, 640)\n",
            "\n",
            "0: 384x640 1 person, 1 cup, 1 apple, 6.8ms\n",
            "Speed: 3.2ms preprocess, 6.8ms inference, 1.6ms postprocess per image at shape (1, 3, 640, 640)\n"
          ]
        },
        {
          "output_type": "stream",
          "name": "stdout",
          "text": [
            "Object Centroid: (553, 374)\n",
            "Object Centroid: (548, 371)\n",
            "Object Centroid: (542, 366)\n",
            "Object Centroid: (536, 357)\n",
            "Object Centroid: (528, 348)\n",
            "Object Centroid: (519, 337)\n",
            "Object Centroid: (512, 326)\n",
            "Object Centroid: (503, 314)\n"
          ]
        },
        {
          "output_type": "stream",
          "name": "stderr",
          "text": [
            "\n",
            "0: 384x640 1 person, 1 cup, 1 apple, 7.4ms\n",
            "Speed: 4.2ms preprocess, 7.4ms inference, 1.6ms postprocess per image at shape (1, 3, 640, 640)\n",
            "\n",
            "0: 384x640 1 person, 1 cup, 1 apple, 6.9ms\n",
            "Speed: 4.4ms preprocess, 6.9ms inference, 2.2ms postprocess per image at shape (1, 3, 640, 640)\n",
            "\n",
            "0: 384x640 1 person, 1 cup, 1 apple, 7.0ms\n",
            "Speed: 3.6ms preprocess, 7.0ms inference, 1.4ms postprocess per image at shape (1, 3, 640, 640)\n",
            "\n",
            "0: 384x640 1 person, 1 cup, 1 apple, 8.7ms\n",
            "Speed: 2.0ms preprocess, 8.7ms inference, 1.5ms postprocess per image at shape (1, 3, 640, 640)\n",
            "\n",
            "0: 384x640 1 person, 1 cup, 1 apple, 7.6ms\n",
            "Speed: 4.5ms preprocess, 7.6ms inference, 1.4ms postprocess per image at shape (1, 3, 640, 640)\n",
            "\n",
            "0: 384x640 1 person, 1 cup, 1 apple, 7.2ms\n",
            "Speed: 2.4ms preprocess, 7.2ms inference, 1.5ms postprocess per image at shape (1, 3, 640, 640)\n",
            "\n",
            "0: 384x640 1 person, 1 cup, 1 apple, 7.7ms\n",
            "Speed: 2.9ms preprocess, 7.7ms inference, 1.5ms postprocess per image at shape (1, 3, 640, 640)\n",
            "\n"
          ]
        },
        {
          "output_type": "stream",
          "name": "stdout",
          "text": [
            "Object Centroid: (495, 304)\n",
            "Object Centroid: (488, 293)\n",
            "Object Centroid: (483, 284)\n",
            "Object Centroid: (479, 275)\n",
            "Object Centroid: (473, 265)\n",
            "Object Centroid: (469, 257)\n",
            "Object Centroid: (464, 248)\n",
            "Object Centroid: (459, 240)\n"
          ]
        },
        {
          "output_type": "stream",
          "name": "stderr",
          "text": [
            "0: 384x640 1 person, 1 cup, 1 apple, 9.6ms\n",
            "Speed: 2.4ms preprocess, 9.6ms inference, 3.0ms postprocess per image at shape (1, 3, 640, 640)\n",
            "\n",
            "0: 384x640 1 person, 1 cup, 1 apple, 7.1ms\n",
            "Speed: 2.6ms preprocess, 7.1ms inference, 1.4ms postprocess per image at shape (1, 3, 640, 640)\n",
            "\n",
            "0: 384x640 1 person, 1 cup, 1 apple, 7.7ms\n",
            "Speed: 2.2ms preprocess, 7.7ms inference, 1.6ms postprocess per image at shape (1, 3, 640, 640)\n",
            "\n",
            "0: 384x640 1 person, 1 cup, 1 apple, 6.9ms\n",
            "Speed: 2.4ms preprocess, 6.9ms inference, 1.4ms postprocess per image at shape (1, 3, 640, 640)\n",
            "\n",
            "0: 384x640 1 person, 1 cup, 1 apple, 7.7ms\n",
            "Speed: 2.4ms preprocess, 7.7ms inference, 1.4ms postprocess per image at shape (1, 3, 640, 640)\n",
            "\n",
            "0: 384x640 1 person, 1 cup, 1 apple, 8.4ms\n",
            "Speed: 2.3ms preprocess, 8.4ms inference, 1.5ms postprocess per image at shape (1, 3, 640, 640)\n",
            "\n",
            "0: 384x640 1 person, 1 cup, 1 apple, 11.5ms\n",
            "Speed: 3.2ms preprocess, 11.5ms inference, 1.6ms postprocess per image at shape (1, 3, 640, 640)\n",
            "\n",
            "0: 384x640 1 person, 1 cup, 1 apple, 8.2ms\n",
            "Speed: 2.8ms preprocess, 8.2ms inference, 1.7ms postprocess per image at shape (1, 3, 640, 640)\n",
            "\n",
            "0: 384x640 1 person, 1 cup, 1 apple, 8.0ms\n",
            "Speed: 2.5ms preprocess, 8.0ms inference, 1.9ms postprocess per image at shape (1, 3, 640, 640)\n"
          ]
        },
        {
          "output_type": "stream",
          "name": "stdout",
          "text": [
            "Object Centroid: (455, 231)\n",
            "Object Centroid: (450, 223)\n",
            "Object Centroid: (445, 214)\n",
            "Object Centroid: (441, 206)\n",
            "Object Centroid: (436, 199)\n",
            "Object Centroid: (433, 191)\n",
            "Object Centroid: (431, 186)\n",
            "Object Centroid: (429, 182)\n"
          ]
        },
        {
          "output_type": "stream",
          "name": "stderr",
          "text": [
            "\n",
            "0: 384x640 1 person, 1 cup, 1 apple, 10.2ms\n",
            "Speed: 2.8ms preprocess, 10.2ms inference, 1.6ms postprocess per image at shape (1, 3, 640, 640)\n",
            "\n",
            "0: 384x640 1 person, 1 cup, 1 apple, 1 dining table, 7.6ms\n",
            "Speed: 2.5ms preprocess, 7.6ms inference, 1.5ms postprocess per image at shape (1, 3, 640, 640)\n",
            "\n",
            "0: 384x640 1 person, 1 cup, 1 apple, 1 dining table, 7.9ms\n",
            "Speed: 2.4ms preprocess, 7.9ms inference, 1.5ms postprocess per image at shape (1, 3, 640, 640)\n",
            "\n",
            "0: 384x640 1 person, 1 cup, 1 apple, 1 dining table, 7.4ms\n",
            "Speed: 2.5ms preprocess, 7.4ms inference, 2.3ms postprocess per image at shape (1, 3, 640, 640)\n",
            "\n",
            "0: 384x640 1 person, 1 cup, 1 apple, 1 dining table, 9.6ms\n",
            "Speed: 4.4ms preprocess, 9.6ms inference, 2.3ms postprocess per image at shape (1, 3, 640, 640)\n",
            "\n",
            "0: 384x640 1 person, 1 cup, 1 apple, 1 dining table, 7.5ms\n",
            "Speed: 2.5ms preprocess, 7.5ms inference, 1.4ms postprocess per image at shape (1, 3, 640, 640)\n",
            "\n",
            "0: 384x640 1 person, 1 cup, 1 apple, 1 dining table, 7.8ms\n",
            "Speed: 2.4ms preprocess, 7.8ms inference, 1.5ms postprocess per image at shape (1, 3, 640, 640)\n",
            "\n"
          ]
        },
        {
          "output_type": "stream",
          "name": "stdout",
          "text": [
            "Object Centroid: (425, 177)\n",
            "Object Centroid: (422, 174)\n",
            "Object Centroid: (422, 170)\n",
            "Object Centroid: (421, 168)\n",
            "Object Centroid: (420, 166)\n",
            "Object Centroid: (419, 164)\n",
            "Object Centroid: (419, 163)\n",
            "Object Centroid: (419, 163)\n"
          ]
        },
        {
          "output_type": "stream",
          "name": "stderr",
          "text": [
            "0: 384x640 1 person, 1 cup, 1 apple, 1 dining table, 10.8ms\n",
            "Speed: 1.7ms preprocess, 10.8ms inference, 2.2ms postprocess per image at shape (1, 3, 640, 640)\n",
            "\n",
            "0: 384x640 1 person, 1 cup, 1 apple, 8.8ms\n",
            "Speed: 2.4ms preprocess, 8.8ms inference, 1.5ms postprocess per image at shape (1, 3, 640, 640)\n",
            "\n",
            "0: 384x640 1 person, 1 cup, 1 apple, 1 dining table, 7.7ms\n",
            "Speed: 3.0ms preprocess, 7.7ms inference, 1.6ms postprocess per image at shape (1, 3, 640, 640)\n",
            "\n",
            "0: 384x640 1 person, 1 cup, 1 apple, 1 dining table, 10.6ms\n",
            "Speed: 2.8ms preprocess, 10.6ms inference, 1.6ms postprocess per image at shape (1, 3, 640, 640)\n",
            "\n",
            "0: 384x640 1 person, 1 cup, 1 apple, 8.9ms\n",
            "Speed: 2.6ms preprocess, 8.9ms inference, 1.5ms postprocess per image at shape (1, 3, 640, 640)\n",
            "\n",
            "0: 384x640 1 person, 1 cup, 1 apple, 1 dining table, 10.2ms\n",
            "Speed: 4.2ms preprocess, 10.2ms inference, 2.4ms postprocess per image at shape (1, 3, 640, 640)\n",
            "\n",
            "0: 384x640 1 person, 1 cup, 1 apple, 7.1ms\n",
            "Speed: 3.4ms preprocess, 7.1ms inference, 1.5ms postprocess per image at shape (1, 3, 640, 640)\n",
            "\n",
            "0: 384x640 1 person, 1 cup, 1 apple, 7.0ms\n",
            "Speed: 2.5ms preprocess, 7.0ms inference, 1.7ms postprocess per image at shape (1, 3, 640, 640)\n",
            "\n"
          ]
        },
        {
          "output_type": "stream",
          "name": "stdout",
          "text": [
            "Object Centroid: (420, 163)\n",
            "Object Centroid: (423, 164)\n",
            "Object Centroid: (426, 166)\n",
            "Object Centroid: (430, 171)\n",
            "Object Centroid: (434, 177)\n",
            "Object Centroid: (442, 185)\n",
            "Object Centroid: (448, 194)\n",
            "Object Centroid: (452, 202)\n"
          ]
        },
        {
          "output_type": "stream",
          "name": "stderr",
          "text": [
            "0: 384x640 1 person, 1 cup, 1 apple, 8.0ms\n",
            "Speed: 3.4ms preprocess, 8.0ms inference, 3.2ms postprocess per image at shape (1, 3, 640, 640)\n",
            "\n",
            "0: 384x640 1 person, 1 cup, 1 apple, 7.6ms\n",
            "Speed: 2.8ms preprocess, 7.6ms inference, 1.6ms postprocess per image at shape (1, 3, 640, 640)\n",
            "\n",
            "0: 384x640 1 person, 1 cup, 1 apple, 7.4ms\n",
            "Speed: 4.2ms preprocess, 7.4ms inference, 1.5ms postprocess per image at shape (1, 3, 640, 640)\n",
            "\n",
            "0: 384x640 1 person, 1 cup, 1 apple, 7.1ms\n",
            "Speed: 3.8ms preprocess, 7.1ms inference, 1.6ms postprocess per image at shape (1, 3, 640, 640)\n",
            "\n",
            "0: 384x640 1 person, 1 cup, 1 apple, 7.7ms\n",
            "Speed: 2.0ms preprocess, 7.7ms inference, 2.3ms postprocess per image at shape (1, 3, 640, 640)\n",
            "\n",
            "0: 384x640 1 person, 1 cup, 1 apple, 7.5ms\n",
            "Speed: 2.3ms preprocess, 7.5ms inference, 1.6ms postprocess per image at shape (1, 3, 640, 640)\n",
            "\n",
            "0: 384x640 1 person, 1 cup, 1 apple, 8.4ms\n",
            "Speed: 3.1ms preprocess, 8.4ms inference, 1.5ms postprocess per image at shape (1, 3, 640, 640)\n",
            "\n",
            "0: 384x640 1 person, 1 cup, 1 apple, 8.6ms\n",
            "Speed: 2.2ms preprocess, 8.6ms inference, 1.6ms postprocess per image at shape (1, 3, 640, 640)\n",
            "\n"
          ]
        },
        {
          "output_type": "stream",
          "name": "stdout",
          "text": [
            "Object Centroid: (455, 205)\n",
            "Object Centroid: (457, 209)\n",
            "Object Centroid: (459, 213)\n",
            "Object Centroid: (461, 217)\n",
            "Object Centroid: (464, 220)\n",
            "Object Centroid: (465, 224)\n",
            "Object Centroid: (467, 231)\n",
            "Object Centroid: (470, 237)\n"
          ]
        },
        {
          "output_type": "stream",
          "name": "stderr",
          "text": [
            "0: 384x640 1 person, 1 cup, 1 apple, 9.0ms\n",
            "Speed: 2.3ms preprocess, 9.0ms inference, 2.3ms postprocess per image at shape (1, 3, 640, 640)\n",
            "\n",
            "0: 384x640 1 person, 1 cup, 1 apple, 9.1ms\n",
            "Speed: 2.4ms preprocess, 9.1ms inference, 1.7ms postprocess per image at shape (1, 3, 640, 640)\n",
            "\n",
            "0: 384x640 1 person, 1 cup, 1 apple, 10.5ms\n",
            "Speed: 2.5ms preprocess, 10.5ms inference, 1.5ms postprocess per image at shape (1, 3, 640, 640)\n",
            "\n",
            "0: 384x640 1 person, 1 cup, 1 apple, 7.7ms\n",
            "Speed: 2.6ms preprocess, 7.7ms inference, 1.5ms postprocess per image at shape (1, 3, 640, 640)\n",
            "\n",
            "0: 384x640 1 person, 1 cup, 1 apple, 10.0ms\n",
            "Speed: 2.0ms preprocess, 10.0ms inference, 1.5ms postprocess per image at shape (1, 3, 640, 640)\n",
            "\n",
            "0: 384x640 1 person, 1 cup, 1 apple, 7.9ms\n",
            "Speed: 2.3ms preprocess, 7.9ms inference, 1.4ms postprocess per image at shape (1, 3, 640, 640)\n",
            "\n",
            "0: 384x640 1 person, 1 cup, 1 apple, 7.3ms\n",
            "Speed: 3.0ms preprocess, 7.3ms inference, 1.5ms postprocess per image at shape (1, 3, 640, 640)\n",
            "\n",
            "0: 384x640 1 person, 1 cup, 1 apple, 7.9ms\n",
            "Speed: 2.4ms preprocess, 7.9ms inference, 1.5ms postprocess per image at shape (1, 3, 640, 640)\n",
            "\n"
          ]
        },
        {
          "output_type": "stream",
          "name": "stdout",
          "text": [
            "Object Centroid: (473, 245)\n",
            "Object Centroid: (475, 252)\n",
            "Object Centroid: (479, 259)\n",
            "Object Centroid: (481, 266)\n",
            "Object Centroid: (484, 272)\n",
            "Object Centroid: (486, 278)\n",
            "Object Centroid: (489, 282)\n",
            "Object Centroid: (490, 286)\n"
          ]
        },
        {
          "output_type": "stream",
          "name": "stderr",
          "text": [
            "0: 384x640 1 person, 1 cup, 1 apple, 12.2ms\n",
            "Speed: 4.1ms preprocess, 12.2ms inference, 3.5ms postprocess per image at shape (1, 3, 640, 640)\n"
          ]
        },
        {
          "output_type": "stream",
          "name": "stdout",
          "text": [
            "Object Centroid: (491, 288)\n",
            "Process Finished!!!\n"
          ]
        }
      ],
      "source": [
        "# Load the video\n",
        "video_path = '/content/drive/MyDrive/Fluid Semantic Drive/META [Segment Anything]/Videos/cam_1_video.mp4' #'/content/drive/MyDrive/Fluid Segmentation Drive/cam_1_video.mp4'\n",
        "video = cv2.VideoCapture(video_path)\n",
        "\n",
        "## Flags\n",
        "yolo_all = False  #TODO\n",
        "\n",
        "yolo_output_path = '/content/drive/MyDrive/Fluid Semantic Drive/META [Segment Anything]/YOLO_Detection/yolo_apple_centroid_cam_1_video.mp4'\n",
        "fourcc = cv2.VideoWriter_fourcc(*'mp4v')\n",
        "yolo_output_video = cv2.VideoWriter(yolo_output_path, fourcc, 30.0, (int(video.get(3)), int(video.get(4))))\n",
        "\n",
        "# Get total number of frames\n",
        "num_frames = int(video.get(cv2.CAP_PROP_FRAME_COUNT))\n",
        "\n",
        "frame_counter = 0\n",
        "# with tqdm(total=num_frames) as pbar:\n",
        "while video.isOpened():\n",
        "    ret, frame = video.read()\n",
        "    # Break the loop if the video ends\n",
        "    if not ret:\n",
        "        break\n",
        "    result_frame, c_x, c_y = YOLO_SAM_Centroid(frame, YOLO, poi='apple', yolo_all=yolo_all)\n",
        "    print(f\"Object Centroid: ({c_x}, {c_y})\") if c_x != 0 else None\n",
        "    yolo_output_video.write(result_frame)\n",
        "    # pbar.update(1)  # Update the progress bar\n",
        "    frame_counter += 1\n",
        "\n",
        "print(\"Process Finished!!!\")\n",
        "video.release()\n",
        "yolo_output_video.release()\n",
        "cv2.destroyAllWindows()"
      ]
    },
    {
      "cell_type": "code",
      "execution_count": 23,
      "metadata": {
        "id": "_6uxaKsVNX5F"
      },
      "outputs": [],
      "source": [
        "video.release()\n",
        "yolo_output_video.release() if yolo_all else None\n",
        "# output_video.release()\n",
        "cv2.destroyAllWindows()"
      ]
    },
    {
      "cell_type": "code",
      "execution_count": 19,
      "metadata": {
        "id": "quMsfX18jSUg"
      },
      "outputs": [],
      "source": []
    }
  ],
  "metadata": {
    "accelerator": "GPU",
    "colab": {
      "provenance": []
    },
    "gpuClass": "standard",
    "kernelspec": {
      "display_name": "Python 3",
      "name": "python3"
    },
    "language_info": {
      "name": "python"
    }
  },
  "nbformat": 4,
  "nbformat_minor": 0
}